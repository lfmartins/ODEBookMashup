{
 "metadata": {
  "name": ""
 },
 "nbformat": 3,
 "nbformat_minor": 0,
 "worksheets": [
  {
   "cells": [
    {
     "cell_type": "heading",
     "level": 1,
     "metadata": {},
     "source": [
      "Introduction"
     ]
    },
    {
     "cell_type": "markdown",
     "metadata": {},
     "source": [
      "We are finally ready to have some fun. In this lesson we discuss how to use `matplotlib` to produce professional-looking plots. `Matplotlib` is a library originally inspired on Matlab's plotting conventions. These are easy for making nice plots very quickly. There is another, object oriented, interface that is more appropriate for programs that generate plots.\n",
      "\n",
      "The first step is to load `pylab`:"
     ]
    },
    {
     "cell_type": "code",
     "collapsed": false,
     "input": [
      "%pylab inline"
     ],
     "language": "python",
     "metadata": {},
     "outputs": []
    },
    {
     "cell_type": "markdown",
     "metadata": {},
     "source": [
      "Lines starting with `%` in IPython are called _magic_ and add functionality not available in plain Python. The `pylab` directive imports `numpy`, `scipy` and `matplotilib` and make their functions available in the notebook namespace. So, you can, for example, type `sin` instead of `numpy.sin` to use the sine function.\n",
      "\n",
      "The `inline` options causes the plot output to be directed to the notebook (as opposed to a file or an external program)."
     ]
    },
    {
     "cell_type": "heading",
     "level": 1,
     "metadata": {},
     "source": [
      "Simple plots"
     ]
    },
    {
     "cell_type": "markdown",
     "metadata": {},
     "source": [
      "Ploting using `pylab` is a three step process:\n",
      "\n",
      "- Define the function to be plotted (if it is not a built-in function).\n",
      "- Compute the values to be plotted.\n",
      "- Display the plot.\n",
      "\n",
      "As an example, let's consider the Fourier series for a square wave of period $2\\pi$:\n",
      "\n",
      "$$\n",
      "\\newcommand{\\mtab}{\\quad\\quad\\quad\\quad}\n",
      "\\mtab f(x) = \\frac{4}{\\pi}\\sum_{n=0}^{\\infty}\\frac{\\sin((2n+1)x)}{2n+1}\n",
      "$$"
     ]
    },
    {
     "cell_type": "markdown",
     "metadata": {},
     "source": [
      "Suppose we want to see how good is the approximation given by the first four terms of the series. This is how we would plot the approximation:"
     ]
    },
    {
     "cell_type": "code",
     "collapsed": false,
     "input": [
      "nterms = 4\n",
      "x = linspace(0,2*pi, 200)\n",
      "y = 4/pi * sum( sin( (2 * n + 1) * x ) / (2 * n + 1) for n in arange(nterms, dtype = float64) )\n",
      "plot(x, y)"
     ],
     "language": "python",
     "metadata": {},
     "outputs": []
    },
    {
     "cell_type": "markdown",
     "metadata": {},
     "source": [
      "It is important to understand what is going on here. The assignment:\n",
      "\n",
      "    x = linspace(0,2*pi, 200)\n",
      "    \n",
      "stores in `x` an array of 200 equally spaced points in the interval $[0,2\\pi$]. Here are the first 10 values:"
     ]
    },
    {
     "cell_type": "code",
     "collapsed": false,
     "input": [
      "x[:10]"
     ],
     "language": "python",
     "metadata": {},
     "outputs": []
    },
    {
     "cell_type": "markdown",
     "metadata": {},
     "source": [
      "We then need to compute the corresponding array `y` of values to be plotted. This is done by the expression:\n",
      "\n",
      "    4/pi * sum( sin( (2 * n + 1) * x ) / (2 * n + 1) for n in arange(nterms, dtype = float64) )\n",
      "    \n",
      "This statement can be read as follows: \"$4/\\pi$ multiplied by the sum of $\\sin((2n+1)x$, where $n$ ranges from 1 to `nterms-1`\". Notice the use of an `arange` instead of `range`. This is the right thing to do when we want to work with floating point values.\n",
      "\n",
      "Notice that we did not need to define a specialized function to compute the values, since the expression for `y` can be written using `numpy` built-in functions. \n",
      "\n",
      "Now we want to plot the square wave to compare with the Fourier approximation. We first define a function to compute the square wave."
     ]
    },
    {
     "cell_type": "code",
     "collapsed": false,
     "input": [
      "def square_wave(x): \n",
      "    return 2 * ( (x % (2 * pi) <= pi) ) - 1"
     ],
     "language": "python",
     "metadata": {},
     "outputs": []
    },
    {
     "cell_type": "markdown",
     "metadata": {},
     "source": [
      "This requires some explanation. We first reduce $x$ modulo `2*pi`. Then we compare the result with $pi$. The result of a comparison in Python is either 1 (true) or 0 (false). So the expression\n",
      "\n",
      "    x % (2 * pi) <= pi\n",
      "    \n",
      "produces exactly what we want.\n",
      "\n",
      "Here is the plot (notice that we already defined the array `x` in the previous computation):"
     ]
    },
    {
     "cell_type": "code",
     "collapsed": false,
     "input": [
      "s = square_wave(x)\n",
      "plot(x, s)"
     ],
     "language": "python",
     "metadata": {},
     "outputs": []
    },
    {
     "cell_type": "markdown",
     "metadata": {},
     "source": [
      "This plot does not look that good, because it is flush against the box. In the next plot, we set the plot limits explicitly, and also plot the Fourier approximation for comparison."
     ]
    },
    {
     "cell_type": "code",
     "collapsed": false,
     "input": [
      "x = linspace(-.5, 6.5, 200)\n",
      "nterms = 4\n",
      "y = 4/pi * sum( sin( (2 * n + 1) * x ) / (2 * n + 1) for n in arange(nterms, dtype = float64) )\n",
      "s = square_wave(x)\n",
      "axis([-.5, 6.5, -1.3, 1.3])\n",
      "plot(x, s, x, y)"
     ],
     "language": "python",
     "metadata": {},
     "outputs": []
    },
    {
     "cell_type": "markdown",
     "metadata": {},
     "source": [
      "The function\n",
      "\n",
      "    axis([xmin, xmax, ymin, ymax])\n",
      "    \n",
      "sets the plot bounds.\n",
      "\n",
      "`Matplotlib` automatically selects the colors of the plots. We will se later how to get control of that.\n",
      "\n",
      "The syntax of the plot command is:\n",
      "\n",
      "    plot(x1, y1, x2, y2,..., options)\n",
      "    \n",
      "This plots the graph defined by the vectors `x1`, `y1`, then `x2`, `y2`, and so forth."
     ]
    },
    {
     "cell_type": "heading",
     "level": 1,
     "metadata": {},
     "source": [
      "Decorations"
     ]
    },
    {
     "cell_type": "markdown",
     "metadata": {},
     "source": [
      "Let's now see how to add a title, lables for the axis and a legend. Title and axis labels are pretty straightforward:"
     ]
    },
    {
     "cell_type": "code",
     "collapsed": false,
     "input": [
      "x = linspace(-.5, 6.5, 200)\n",
      "y = 4/pi * sum( sin( (2 * n + 1) * x ) / (2 * n + 1) for n in arange(nterms, dtype = float64) )\n",
      "s = square_wave(x)\n",
      "axis([-.5, 6.5, -1.3, 1.3])\n",
      "plot(x, s, x, y)\n",
      "title('Four-term Fourier approximation for a square wave')\n",
      "xlabel('x')\n",
      "ylabel('f(x)')"
     ],
     "language": "python",
     "metadata": {},
     "outputs": []
    },
    {
     "cell_type": "markdown",
     "metadata": {},
     "source": [
      "Let's now add a legend:"
     ]
    },
    {
     "cell_type": "code",
     "collapsed": false,
     "input": [
      "x = linspace(-.5, 6.5, 200)\n",
      "y = 4/pi * sum( sin( (2 * n + 1) * x ) / (2 * n + 1) for n in arange(nterms, dtype = float64) )\n",
      "s = square_wave(x)\n",
      "axis([-.5, 6.5, -1.3, 1.3])\n",
      "plot(x, s, x, y)\n",
      "title('Four-term Fourier approximation for a square wave')\n",
      "xlabel('x')\n",
      "ylabel('f(x)')\n",
      "legend(['Square Wave', 'Fourier approx'])"
     ],
     "language": "python",
     "metadata": {},
     "outputs": []
    },
    {
     "cell_type": "heading",
     "level": 1,
     "metadata": {},
     "source": [
      "A Fancy Plot"
     ]
    },
    {
     "cell_type": "markdown",
     "metadata": {},
     "source": [
      "You can skip this section in a first reading. We show how to plot several Fourier approximations with different format approximations."
     ]
    },
    {
     "cell_type": "code",
     "collapsed": false,
     "input": [
      "x = linspace(-.5, 6.5, 200)\n",
      "nterms = 5  # Largest number of terms in Fourier approximation.\n",
      "axis([-.5, 6.5, -1.3, 1.3])\n",
      "# Plot square wave\n",
      "plot(x, square_wave(x))\n",
      "# Plot Fourier approximations\n",
      "for k in range(1, nterms):\n",
      "    y = 4/pi * sum( sin( (2 * n + 1) * x ) / (2 * n + 1) for n in arange(k, dtype = float64) )\n",
      "    # print y\n",
      "    plot(x,y, color = 'green')\n",
      "xlabel('x')\n",
      "ylabel('y')\n",
      "title('Fourier approximation to square wave')\n",
      "legend(['Square wave','Fourier approx']) "
     ],
     "language": "python",
     "metadata": {},
     "outputs": []
    },
    {
     "cell_type": "markdown",
     "metadata": {},
     "source": [
      "Finally, here is an illustration of the famous \"Gibbs phenonenon\", a consequence of trying to approximate a discontinuous function with by a smooth function:"
     ]
    },
    {
     "cell_type": "code",
     "collapsed": false,
     "input": [
      "nterms = 10\n",
      "x = linspace(-.5, 6.5, 200)\n",
      "y = 4/pi * sum( sin( (2 * n + 1) * x ) / (2 * n + 1) for n in arange(nterms, dtype = float64),) \n",
      "s = square_wave(x)\n",
      "axis([-.5, 6.5, -1.3, 2.0])\n",
      "plot(x, s, color = 'blue')\n",
      "plot(x, y, color = 'green')\n",
      "title('Four-term Fourier approximation for a square wave')\n",
      "xlabel('x')\n",
      "ylabel('f(x)')\n",
      "legend(['Square Wave', 'Fourier approx'])\n",
      "annotate('Gibbs phenomenon', xy = (0.1,1.2), xycoords = 'data', \n",
      "         xytext = (0.8, 1.5), arrowprops=dict(arrowstyle=\"->\",connectionstyle=\"arc3,rad=.3\"))"
     ],
     "language": "python",
     "metadata": {},
     "outputs": []
    },
    {
     "cell_type": "code",
     "collapsed": false,
     "input": [],
     "language": "python",
     "metadata": {},
     "outputs": []
    }
   ],
   "metadata": {}
  }
 ]
}