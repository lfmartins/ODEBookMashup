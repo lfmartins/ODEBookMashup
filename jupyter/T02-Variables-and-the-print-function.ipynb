{
 "cells": [
  {
   "cell_type": "markdown",
   "metadata": {},
   "source": [
    "# Introduction"
   ]
  },
  {
   "cell_type": "markdown",
   "metadata": {},
   "source": [
    "When we do some work, we want in general to save the computations we perform, so that they can be used sowhere else. In Python this is done using _variables_. In this lesson, you will learn how to use variables to work more efficiently."
   ]
  },
  {
   "cell_type": "markdown",
   "metadata": {},
   "source": [
    "# Setting and retreiving variables"
   ]
  },
  {
   "cell_type": "markdown",
   "metadata": {},
   "source": [
    "A variable, in Python, is represented by a sequence of characters according to the following rules:\n",
    "\n",
    "- The only allowed characters are letters, digits and the underscore `_`.\n",
    "- The first character must be a letter or the underscore `_`.\n",
    "\n",
    "To assign a value to a variable, we use the _assignment operator_ `=`:"
   ]
  },
  {
   "cell_type": "code",
   "execution_count": null,
   "metadata": {
    "collapsed": false
   },
   "outputs": [],
   "source": [
    "a = 2"
   ]
  },
  {
   "cell_type": "markdown",
   "metadata": {},
   "source": [
    "The cell above, once evaluated, _assigns_ the value 2 to the variable `a`. This means that Python reserves some space in memory, writes the integer 2 in that space, and makes the name `a` refer to that memory location.\n",
    "\n",
    "To retrieve the value of the variable `a`, we simply use its name. Evaluate the cell below:"
   ]
  },
  {
   "cell_type": "code",
   "execution_count": null,
   "metadata": {
    "collapsed": false
   },
   "outputs": [],
   "source": [
    "a"
   ]
  },
  {
   "cell_type": "markdown",
   "metadata": {},
   "source": [
    "Variables can also be used in expressions. Suppose we want to compute the area and perimeter of a rectangle of height 4 and width 3. We could do the following:"
   ]
  },
  {
   "cell_type": "code",
   "execution_count": null,
   "metadata": {
    "collapsed": false
   },
   "outputs": [],
   "source": [
    "height = 4\n",
    "width = 3\n",
    "volume = height * width\n",
    "perimeter = 2 * (height + width)"
   ]
  },
  {
   "cell_type": "markdown",
   "metadata": {},
   "source": [
    "Notice that we performed several statements in the same cell. To enter a new line in a cell, simply press `Enter`. As usual, press `Shift+Enter` at the end to evaluate the cell.\n",
    "\n",
    "We assigned the volume and perimeter to variables with the appropriate names. To display the variable values, evaluate each one in a single cell:"
   ]
  },
  {
   "cell_type": "code",
   "execution_count": null,
   "metadata": {
    "collapsed": false
   },
   "outputs": [],
   "source": [
    "volume"
   ]
  },
  {
   "cell_type": "code",
   "execution_count": null,
   "metadata": {
    "collapsed": false
   },
   "outputs": [],
   "source": [
    "perimeter"
   ]
  },
  {
   "cell_type": "markdown",
   "metadata": {},
   "source": [
    "As mentioned above, variable names can include digits and the underscore symbol. As an example, suppose we want to compute the area of a ring formed by two concentric circles with radii $r_1=3$ and $r_2=5$. We could store the radii in two variables:"
   ]
  },
  {
   "cell_type": "code",
   "execution_count": null,
   "metadata": {
    "collapsed": false
   },
   "outputs": [],
   "source": [
    "r1 = 3\n",
    "r2 = 5"
   ]
  },
  {
   "cell_type": "markdown",
   "metadata": {},
   "source": [
    "We also need the value of $\\pi$. We will learn later how to use Python to get the value of $\\pi$, but for now let's just define a new variable:"
   ]
  },
  {
   "cell_type": "code",
   "execution_count": null,
   "metadata": {
    "collapsed": false
   },
   "outputs": [],
   "source": [
    "pi = 3.14159265"
   ]
  },
  {
   "cell_type": "markdown",
   "metadata": {},
   "source": [
    "Then, the area could be computed as:"
   ]
  },
  {
   "cell_type": "code",
   "execution_count": null,
   "metadata": {
    "collapsed": false
   },
   "outputs": [],
   "source": [
    "ring_area = pi * (r2 ** 2 - r1 **2)\n",
    "ring_area"
   ]
  },
  {
   "cell_type": "markdown",
   "metadata": {},
   "source": [
    "Notice what we did in the previous example: we first compute the area, and then display it. This is a pretty common way to do things in iPython.\n",
    "\n",
    "We used the underscore to stand in for a space, since variable names can't have blanks. The only thing to be carefula about the underscore is that sometimes it has special meaning when it appears at the beginning or ending of a variable name."
   ]
  },
  {
   "cell_type": "markdown",
   "metadata": {},
   "source": [
    "One final useful feature is _multiple assignment_, which allows the assignment of several variables simultaneosly. For example:"
   ]
  },
  {
   "cell_type": "code",
   "execution_count": null,
   "metadata": {
    "collapsed": false
   },
   "outputs": [],
   "source": [
    "a, b, c = 4.0, 5.0, 3.0\n",
    "arithmetic_mean, geometric_mean, harmonic_mean = (a + b + c)/3, (a * b * c) ** (1./3.), (1/a + 1/b + 1/c) ** (-1)\n",
    "arithmetic_mean, geometric_mean, harmonic_mean"
   ]
  },
  {
   "cell_type": "markdown",
   "metadata": {},
   "source": [
    "# The print command"
   ]
  },
  {
   "cell_type": "markdown",
   "metadata": {},
   "source": [
    "Another handy command to display the value of variables is the `print` command. It allows us to print the values of several variables simultaneously.\n",
    "\n",
    "For example, after the computation of the means in the previous example, we could print the result using:\n",
    " \n",
    " \n",
    "\n"
   ]
  },
  {
   "cell_type": "code",
   "execution_count": null,
   "metadata": {
    "collapsed": false
   },
   "outputs": [],
   "source": [
    "print (\"The arithmetic mean is: {}\".format(arithmetic_mean))\n",
    "print (\"The geometric mean is: {}\".format(geometric_mean))\n",
    "print (\"The harmonic mean is: {}\".format(harmonic_mean))"
   ]
  },
  {
   "cell_type": "markdown",
   "metadata": {},
   "source": [
    "_Important Note_: If you get an error running those, you are probably using Python 2.7 or earlier. This notebook assumes that Python 3 is used.\n",
    "\n",
    "Notice that we use _string formatting_ to print a nice message. In the first expression, the format string is:\n",
    "\n",
    "    \"The arithmetic mean is: {}\"\n",
    "  \n",
    "In a format string such as this, the empty brackets `{}` will be replaced by a variable name, so when Python sees the expression:\n",
    "\n",
    "    \"The arithmetic mean is: {}\".format(arithmetic_mean)\"\n",
    "    \n",
    "it replaces the `{}` by the value of the variable `arithmetic_mean`, producing the string:\n",
    "\n",
    "    \"The arithmetic mean is: 4.0\"\n",
    "    \n",
    "There can be more than one `{}` in a format string, in which case the values are associated according to their order:"
   ]
  },
  {
   "cell_type": "code",
   "execution_count": null,
   "metadata": {
    "collapsed": false
   },
   "outputs": [],
   "source": [
    "print (\"The geometric mean is {}, and the harmonic mean is {}\".format(geometric_mean, harmonic_mean))"
   ]
  },
  {
   "cell_type": "markdown",
   "metadata": {},
   "source": [
    "In the next cell, we display the results with a better format:"
   ]
  },
  {
   "cell_type": "code",
   "execution_count": null,
   "metadata": {
    "collapsed": false
   },
   "outputs": [],
   "source": [
    "print (\"The geometric mean is {:6.4f}, and the harmonic mean is {:6.4f}\".format(geometric_mean, harmonic_mean))"
   ]
  },
  {
   "cell_type": "markdown",
   "metadata": {},
   "source": [
    "The format specification is `{:6.4f}`, which tells Python to format a float in a field of length 6, using 4 decimals. Notice that the field length must contain space for the decimal point."
   ]
  },
  {
   "cell_type": "markdown",
   "metadata": {},
   "source": [
    "The `print` command is useful to display intermediate results in a computation:"
   ]
  },
  {
   "cell_type": "code",
   "execution_count": null,
   "metadata": {
    "collapsed": false
   },
   "outputs": [],
   "source": [
    "a, b, c = 2.3, 3.4, 7.2\n",
    "print (\"The values of a, b, c are: {:3.1f}, {:3.1f}, {:3.1f}\".format(a,b,c))\n",
    "mean = (a + b + c) / 3\n",
    "print (\"The mean of a, b, c is: {:6.4f}\".format(mean))\n",
    "sd = ( ( (a - mean)**2 + (b - mean)**2 +(c - mean)**2 ) / 2 ) ** 0.5\n",
    "print (\"The standard deviation of a, b, c is: {:6.4f}\".format(sd))"
   ]
  },
  {
   "cell_type": "markdown",
   "metadata": {},
   "source": [
    "# Exercises"
   ]
  },
  {
   "cell_type": "markdown",
   "metadata": {},
   "source": [
    "__1__. Suppose you want to solve the quadratic equation $ax^2+bx+c=0$ for several values of $a$, $b$ and $c$. Use variables to write expressions that represent the solutions of the equation. Use separate variables for intermediate results that can be reused. Place all computations in a single cell, following the pattern:\n",
    "\n",
    "    a, b, c = .....\n",
    "    \n",
    "    .... intermediate computations ....\n",
    "    \n",
    "    x1, x2 = .....\n",
    "    \n",
    "Also, include code to check that your solutions are correct."
   ]
  },
  {
   "cell_type": "code",
   "execution_count": null,
   "metadata": {
    "collapsed": false
   },
   "outputs": [],
   "source": []
  },
  {
   "cell_type": "markdown",
   "metadata": {},
   "source": [
    "__2__. Write a `print` command that displays the solution of the equation from Problem 1 in a complete phrase, such as:\n",
    "\n",
    "    The solutions of the quadratic with a=..., b=... and c=... are x1=... and x2=...\n",
    "   \n",
    "Use the appropriate format for each variable."
   ]
  },
  {
   "cell_type": "code",
   "execution_count": null,
   "metadata": {
    "collapsed": false
   },
   "outputs": [],
   "source": []
  },
  {
   "cell_type": "markdown",
   "metadata": {},
   "source": [
    "__3__. Test the expression your wrote in  the previous exercises with several values for the coefficients. In the tests, include both examples in which the computation is successful and examples where there is an error."
   ]
  },
  {
   "cell_type": "code",
   "execution_count": null,
   "metadata": {
    "collapsed": false
   },
   "outputs": [],
   "source": []
  },
  {
   "cell_type": "markdown",
   "metadata": {},
   "source": [
    "__4__. Complex numbers are supported in Python. The complex constant $3-2i$, for example, is represented by:\n",
    "\n",
    "    3-2j\n",
    "    \n",
    "Notice the use of `j` for the imaginary unit. Choose values of $a$, $b$ and $c$ for which the solutions of $ax^2+bx+c=0$ are not real. Can you use the expressions from the previous exercises to find the solutions? Notice that you must enter the coefficients as complex values, even though they are real. For example, to set a coefficient to 2 use the expression:\n",
    "\n",
    "    2+0j"
   ]
  },
  {
   "cell_type": "code",
   "execution_count": null,
   "metadata": {
    "collapsed": false
   },
   "outputs": [],
   "source": []
  },
  {
   "cell_type": "markdown",
   "metadata": {},
   "source": [
    "_5_. Guess what the values of the variables `a`, `b` and `c` are after the following statements. Then, run the statements in IPython to check your guess:\n",
    "\n",
    "    a, b, c = 1, 2, 3\n",
    "    r, s = a + b, b - c\n",
    "    r, s = s, r\n",
    "    c, a, b = a, b, c"
   ]
  },
  {
   "cell_type": "markdown",
   "metadata": {},
   "source": [
    "# What you learned in this lesson"
   ]
  },
  {
   "cell_type": "markdown",
   "metadata": {},
   "source": [
    "- How to use variables to hold results of computations.\n",
    "- How to use variables in expressions.\n",
    "- How multiple assignment works.\n",
    "- Using `print` to display data in a nice format."
   ]
  },
  {
   "cell_type": "markdown",
   "metadata": {},
   "source": [
    "# Further information"
   ]
  },
  {
   "cell_type": "markdown",
   "metadata": {},
   "source": [
    "- The supported string format specifiers are [documented here](https://docs.python.org/3.4/library/string.html#format-string-syntax)"
   ]
  },
  {
   "cell_type": "markdown",
   "metadata": {},
   "source": [
    "<a rel=\"license\" href=\"http://creativecommons.org/licenses/by-nc-sa/4.0/\"><img alt=\"Creative Commons License\" style=\"border-width:0\" src=\"http://i.creativecommons.org/l/by-nc-sa/4.0/88x31.png\" /></a><br /><span xmlns:dct=\"http://purl.org/dc/terms/\" property=\"dct:title\"><b>Introduction to IPython, SciPy and matplotlib</b></span> by <a xmlns:cc=\"http://creativecommons.org/ns#\" href=\"http://academic.csuohio.edu/fmartins\" property=\"cc:attributionName\" rel=\"cc:attributionURL\">L. Felipe Martins</a> is licensed under a <a rel=\"license\" href=\"http://creativecommons.org/licenses/by-nc-sa/4.0/\">Creative Commons Attribution-NonCommercial-ShareAlike 4.0 International License</a>."
   ]
  }
 ],
 "metadata": {
  "kernelspec": {
   "display_name": "Python 3",
   "language": "python",
   "name": "python3"
  },
  "language_info": {
   "codemirror_mode": {
    "name": "ipython",
    "version": 3
   },
   "file_extension": ".py",
   "mimetype": "text/x-python",
   "name": "python",
   "nbconvert_exporter": "python",
   "pygments_lexer": "ipython3",
   "version": "3.5.1"
  }
 },
 "nbformat": 4,
 "nbformat_minor": 0
}
