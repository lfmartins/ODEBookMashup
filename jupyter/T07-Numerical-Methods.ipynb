{
 "cells": [
  {
   "cell_type": "markdown",
   "metadata": {},
   "source": [
    "# Introduction"
   ]
  },
  {
   "cell_type": "markdown",
   "metadata": {},
   "source": [
    "Most differential equations cannot be solved by exact formulas. This does not prevent us from carrying a qualitative analysis, but at some point it may be necessary to find actual numerical values for solutions, or make accurate plots.\n",
    "\n",
    "In this tutorials, we will study the numerical methods `scipy` provides for solving initial value problems. We will also consider the question of getting accurate approximations to equilibrium points. As usual, we load `pylab`. "
   ]
  },
  {
   "cell_type": "code",
   "execution_count": 2,
   "metadata": {
    "collapsed": false
   },
   "outputs": [
    {
     "name": "stdout",
     "output_type": "stream",
     "text": [
      "Populating the interactive namespace from numpy and matplotlib\n"
     ]
    }
   ],
   "source": [
    "%pylab inline"
   ]
  },
  {
   "cell_type": "markdown",
   "metadata": {},
   "source": [
    "# First-order, one-dimensional DEs."
   ]
  },
  {
   "cell_type": "markdown",
   "metadata": {},
   "source": [
    "Let's consider the differntial equation:\n",
    "$$\n",
    "\\newcommand{\\mtab}{\\quad\\quad\\quad\\quad}\n",
    "\\mtab \\dot{x} = \\gamma(t)-\\sin(x)\n",
    "$$\n",
    "This can be interpreted as an overdamped pendulum subject to an external, time varying, torque $\\gamma(t)$. Notice that this is a nonautonomous system. Except in very special cases for the function $\\gamma(t)$, this differential equation will not have a closed-form solution.\n",
    "\n",
    "For definiteness, let's suppose that the external torque has the form $\\gamma(t)=A\\sin(\\omega t)$, so we want to solve the differential equation:\n",
    "$$\n",
    "\\mtab \\dot{x} = A\\sin(\\omega t) - \\sin(x)\n",
    "$$\n",
    "Let's suppose first that $A=1$ and \\omega=0.25$. We will see later how to deal with changing parameters.\n",
    "\n",
    "Solving a differential equation is a four-step process:\n",
    "\n",
    "- Define a Python function that specifies the flow (the right hand side of the equation).\n",
    "- Choose the times at which the solution is to be computed.\n",
    "- Choose the initial condition.\n",
    "- Call the numerical solver\n",
    "\n",
    "The numerical solver we are going to use is `odeint`, which is in the `scipy.integrate` library:"
   ]
  },
  {
   "cell_type": "code",
   "execution_count": 3,
   "metadata": {
    "collapsed": false
   },
   "outputs": [],
   "source": [
    "from scipy.integrate import odeint"
   ]
  },
  {
   "cell_type": "markdown",
   "metadata": {},
   "source": [
    "Let's now define the function $f(x,t)=\\sin(0.25t)-\\sin(x)$. Since this is a simple function, we just use a lambda-function. Notice that it is a function of two variables, $x$ and $t$."
   ]
  },
  {
   "cell_type": "code",
   "execution_count": 24,
   "metadata": {
    "collapsed": false
   },
   "outputs": [],
   "source": [
    "de = lambda x, t: sin(0.25 * t) - sin(x) "
   ]
  },
  {
   "cell_type": "markdown",
   "metadata": {},
   "source": [
    "Let's solve the differential equation with initial condition $x(0)=1.5$ and want the solution at times $0.0$, $0.1$, $0.2$,$\\dots$ $2.0$. This is how to do it:"
   ]
  },
  {
   "cell_type": "code",
   "execution_count": 25,
   "metadata": {
    "collapsed": false
   },
   "outputs": [],
   "source": [
    "t = arange(0,2.1,0.1)\n",
    "x0 = 1.5\n",
    "x = odeint( de, x0, t)"
   ]
  },
  {
   "cell_type": "markdown",
   "metadata": {},
   "source": [
    "Nothing is printed, since we assigned the solution to the array `x`. Let's print a table of values:"
   ]
  },
  {
   "cell_type": "code",
   "execution_count": 26,
   "metadata": {
    "collapsed": false
   },
   "outputs": [
    {
     "name": "stdout",
     "output_type": "stream",
     "text": [
      "0.0 [ 1.5]\n",
      "0.1 [ 1.40200993]\n",
      "0.2 [ 1.30812087]\n",
      "0.3 [ 1.21909249]\n",
      "0.4 [ 1.13551857]\n",
      "0.5 [ 1.05782075]\n",
      "0.6 [ 0.98625507]\n",
      "0.7 [ 0.92092797]\n",
      "0.8 [ 0.86181792]\n",
      "0.9 [ 0.80879968]\n",
      "1.0 [ 0.76166788]\n",
      "1.1 [ 0.72015908]\n",
      "1.2 [ 0.68397072]\n",
      "1.3 [ 0.65277681]\n",
      "1.4 [ 0.6262405]\n",
      "1.5 [ 0.60402367]\n",
      "1.6 [ 0.58579403]\n",
      "1.7 [ 0.57123025]\n",
      "1.8 [ 0.56002507]\n",
      "1.9 [ 0.55188787]\n",
      "2.0 [ 0.54654558]\n"
     ]
    }
   ],
   "source": [
    "for tt, xx in zip(t,x):\n",
    "    print '{} {}'.format(tt,xx)"
   ]
  },
  {
   "cell_type": "markdown",
   "metadata": {},
   "source": [
    "Notice that the solution is given as a vector (with a single element). `odeint` always interprets the problem as a system, even if it is a single differential equation. Usually, we will want to plot the solution:"
   ]
  },
  {
   "cell_type": "code",
   "execution_count": 27,
   "metadata": {
    "collapsed": false
   },
   "outputs": [
    {
     "data": {
      "text/plain": [
       "<matplotlib.text.Text at 0xcb8bc88>"
      ]
     },
     "execution_count": 27,
     "metadata": {},
     "output_type": "execute_result"
    },
    {
     "data": {
      "image/png": "[encoded data removed]",
      "text/plain": [
       "<matplotlib.figure.Figure at 0xc77f3c8>"
      ]
     },
     "metadata": {},
     "output_type": "display_data"
    }
   ],
   "source": [
    "t = linspace(0,80,200)\n",
    "x0 = 1.5\n",
    "x = odeint( de, x0, t)\n",
    "plot(t,x)\n",
    "xlabel('t')\n",
    "ylabel('x')"
   ]
  },
  {
   "cell_type": "markdown",
   "metadata": {},
   "source": [
    "It seems that the solution quiclkly converges to a periodic oscillation with period about 45. Is this behavior valid for all initial conditions? Is the limiting periodic function the same for all initial condition? Let's plot the solution for several different initial conditions:"
   ]
  },
  {
   "cell_type": "code",
   "execution_count": 28,
   "metadata": {
    "collapsed": false
   },
   "outputs": [
    {
     "data": {
      "text/plain": [
       "<matplotlib.text.Text at 0xcba2c88>"
      ]
     },
     "execution_count": 28,
     "metadata": {},
     "output_type": "execute_result"
    },
    {
     "data": {
      "image/png": "[encoded data removed]",
      "text/plain": [
       "<matplotlib.figure.Figure at 0xcdc7128>"
      ]
     },
     "metadata": {},
     "output_type": "display_data"
    }
   ],
   "source": [
    "t = linspace(0,80,200)\n",
    "ic = [-1.5, -0.5, 0.0, 1.0, 1.5]\n",
    "for x0 in ic:\n",
    "    x = odeint( de, x0, t )\n",
    "    plot( t, x, color = 'blue' )\n",
    "xlabel('t')\n",
    "ylabel('x')"
   ]
  },
  {
   "cell_type": "markdown",
   "metadata": {},
   "source": [
    "So we see that the solution quickly converges to the periodic oscillaton, for any of the initial conditions tried."
   ]
  },
  {
   "cell_type": "markdown",
   "metadata": {},
   "source": [
    "# Parameters"
   ]
  },
  {
   "cell_type": "markdown",
   "metadata": {},
   "source": [
    "We can now ask if the same behavior holds for all amplitudes $A$ and frequencies $\\omega$. We want to be able to solve the differential equation for several values of the parameters. To do this easily, we define a function factory:"
   ]
  },
  {
   "cell_type": "code",
   "execution_count": 29,
   "metadata": {
    "collapsed": false
   },
   "outputs": [],
   "source": [
    "def make_de(A, omega):\n",
    "    f = lambda x, t: A * sin(omega * t) - sin(x)\n",
    "    return f"
   ]
  },
  {
   "cell_type": "markdown",
   "metadata": {},
   "source": [
    "As an example, let's see the effect of different amplitudes, for the fixed frequency $0.25$"
   ]
  }
 ],
 "metadata": {
  "kernelspec": {
   "display_name": "Python 3",
   "language": "python",
   "name": "python3"
  },
  "language_info": {
   "codemirror_mode": {
    "name": "ipython",
    "version": 3
   },
   "file_extension": ".py",
   "mimetype": "text/x-python",
   "name": "python",
   "nbconvert_exporter": "python",
   "pygments_lexer": "ipython3",
   "version": "3.5.1"
  }
 },
 "nbformat": 4,
 "nbformat_minor": 0
}
