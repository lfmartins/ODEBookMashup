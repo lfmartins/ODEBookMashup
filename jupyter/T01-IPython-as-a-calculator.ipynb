{
 "cells": [
  {
   "cell_type": "markdown",
   "metadata": {},
   "source": [
    "# Introduction"
   ]
  },
  {
   "cell_type": "markdown",
   "metadata": {},
   "source": [
    "In this tutorial, we cover the basics of IPython (pronouced \"eye-python\"), SciPy and matplotilib. No previous knowledge of Python or programming is assumed. In fact, we encourage the use of iPython as a platform for experimenting and testing code. This is, in the author's experience, the best way to learn to use new software, learning a new programming language, or being exposed to computer programming for the first time.\n",
    "\n",
    "You will learn about the following technologies:\n",
    "\n",
    "- __Python__: the computer language on which iPython, SciPy and matplotlib are based on.\n",
    "- __IPython__: the interface we will use to interact with Python. That is, the worksheet you are looking at.\n",
    "- __SciPy__: a comprehensive library for scientific computing.\n",
    "- __matplotlib__: a library for plotting.\n",
    "\n",
    "Don't be intimidated by al the names and fancy terminology. Using all the different software components is pretty seamless (thanks to iPython). The main purpose of listing the different components is to make the reader aware of what is involved, in case she wants to search for more information.\n",
    "\n",
    "Searching for more information, by the way, is inevitable. It is in the nature of any tutorial to be of limited scope. At the end of each section we will list links and references to other resources."
   ]
  },
  {
   "cell_type": "markdown",
   "metadata": {},
   "source": [
    "# IPython as a calculator"
   ]
  },
  {
   "cell_type": "markdown",
   "metadata": {},
   "source": [
    "At the most basic level, iPython looks pretty much like an old-fashioned calculator: the user enters some computation, presses some sort of \"enter\" key, and receives a result. In iPython, all this work is done in a _cell_, which looks like the following:"
   ]
  },
  {
   "cell_type": "code",
   "execution_count": null,
   "metadata": {
    "collapsed": false
   },
   "outputs": [],
   "source": [
    "2 + 3"
   ]
  },
  {
   "cell_type": "markdown",
   "metadata": {},
   "source": [
    "To evaluate the contents of the cell, click on it and then press `Shift+Enter`. (This means, simultaneously hold the \"shift\" and \"enter\" keys on the keyboard.) \n",
    "\n",
    "Go ahead an try it with the cell above.\n",
    "\n",
    "The mathematical operations are represented by the following symbols:\n",
    "\n",
    "- `+`: addition\n",
    "- `-`: subtraction or \"unary minus\"\n",
    "- `*`: multiplication\n",
    "- `/`: division (integer or real)\n",
    "- `//`: integer division\n",
    "- `**`: exponentiation (powers)\n",
    "- `%`: remainder\n",
    "\n",
    "The following cells have some examples:\n",
    "\n",
    "(You should press `Shift+Enter` on each cell to evaluate it.)"
   ]
  },
  {
   "cell_type": "code",
   "execution_count": null,
   "metadata": {
    "collapsed": false
   },
   "outputs": [],
   "source": [
    "2 + 4 * 3"
   ]
  },
  {
   "cell_type": "code",
   "execution_count": null,
   "metadata": {
    "collapsed": false
   },
   "outputs": [],
   "source": [
    "(2 + 4) * 3"
   ]
  },
  {
   "cell_type": "code",
   "execution_count": null,
   "metadata": {
    "collapsed": false
   },
   "outputs": [],
   "source": [
    "100 / 3"
   ]
  },
  {
   "cell_type": "markdown",
   "metadata": {},
   "source": [
    "_Important note_: the result of the previous cell shold be `33.333333333333336`. It you got simply `33`, this means that you are running Python 2.7. _This notebook assumes that you are running Python 3._"
   ]
  },
  {
   "cell_type": "code",
   "execution_count": null,
   "metadata": {
    "collapsed": false
   },
   "outputs": [],
   "source": [
    "2**100"
   ]
  },
  {
   "cell_type": "markdown",
   "metadata": {},
   "source": [
    "Notice the following:\n",
    "\n",
    "- The usual precedence rules for mathematical expressions are enforced. Operations are evaluated in the following order:\n",
    "   1. powers\n",
    "   2. multiplication and division\n",
    "   3. addition and subtraction\n",
    "- The order of operations can be controled by the use of parenthesis\n",
    "- Floats (the computer representation of real numbers) _must_ have a decimal point. If there is no decimal point, the number is interpreted as an integer. However, whenever appropriate, Python will convert an integer to a float whenever necessary.\n",
    "- Exponentiation is denoted by `**`.\n",
    "\n",
    "This last point is often forgotten, since people got used to use `^` for powers. However, this is a different operation (`xor`) in Python:"
   ]
  },
  {
   "cell_type": "code",
   "execution_count": null,
   "metadata": {
    "collapsed": false
   },
   "outputs": [],
   "source": [
    "12 ^ 2"
   ]
  },
  {
   "cell_type": "code",
   "execution_count": null,
   "metadata": {
    "collapsed": false
   },
   "outputs": [],
   "source": [
    "12 ** 2"
   ]
  },
  {
   "cell_type": "markdown",
   "metadata": {},
   "source": [
    "Use of the `xor` operator is rare in computational mathematics, so, if you get a wrong answer or a strange error message, it is possible that you meant to use `**` instead of `^`."
   ]
  },
  {
   "cell_type": "markdown",
   "metadata": {},
   "source": [
    "# Exercises"
   ]
  },
  {
   "cell_type": "markdown",
   "metadata": {},
   "source": [
    "Do the exercises below, using one cell for each item. \n",
    "\n",
    "To insert a new cell, use the menu or buttons on the top of the page.\n",
    "\n",
    "__1__. Write and evaluate Python expressions that calculate the following:\n",
    "\n",
    "1. Add 3 and 7, and then raise the result to the third power.\n",
    "2. Add 3 to 7 raised to the third power.\n",
    "3. Raise the sum of 2 and 5 to the product of 5 and 13.\n",
    "4. The volume of a cone with height 3 inches and base radius 4.\n",
    "5. How many miles are in 12 kilometers. 1 mile is equal to 1.62 kilometers.\n",
    "6. The two solutions of the quadratic equation $2x^2-7x+3=0$. You can compute the square root by raising to the appropriate power. Check that your solutions are correct, by plugging them back into the equation."
   ]
  },
  {
   "cell_type": "code",
   "execution_count": null,
   "metadata": {
    "collapsed": false
   },
   "outputs": [],
   "source": []
  },
  {
   "cell_type": "markdown",
   "metadata": {},
   "source": [
    "__2__. What happens if you enter an incorrect expression? Try the following, and see the results:\n",
    "\n",
    "1. `2 + * 3`\n",
    "2. `(2+7**2`\n",
    "3. `pi * 3 ^ 2`\n",
    "5. `4 / 0`\n",
    "6. `2 ^ 0.5`\n",
    "7. `(-2) ** 0.5`\n",
    "8. `3 7`"
   ]
  },
  {
   "cell_type": "code",
   "execution_count": null,
   "metadata": {
    "collapsed": false
   },
   "outputs": [],
   "source": []
  },
  {
   "cell_type": "markdown",
   "metadata": {},
   "source": [
    "__3__. Sometimes, an expression, even if correct, does not produce the expected results. Evaluate the following, and explain the results.\n",
    "\n",
    "1. `3 ** 2 ** 4`\n",
    "2. `3 - - 2`\n",
    "3. `3----+---+-2`\n",
    "3. `4 ** (1 / 2)`"
   ]
  },
  {
   "cell_type": "code",
   "execution_count": null,
   "metadata": {
    "collapsed": false
   },
   "outputs": [],
   "source": []
  },
  {
   "cell_type": "markdown",
   "metadata": {},
   "source": [
    "# What you learned in this lesson"
   ]
  },
  {
   "cell_type": "markdown",
   "metadata": {},
   "source": [
    "- How to enter expressions and evaluate cells.\n",
    "- How to evaluate arithmetic expressions.\n",
    "- Rules of precedence for expressions."
   ]
  },
  {
   "cell_type": "markdown",
   "metadata": {},
   "source": [
    "# Further information"
   ]
  },
  {
   "cell_type": "markdown",
   "metadata": {},
   "source": [
    "- Official Python website: <http://python.org>\n",
    "- IPython website: <http://ipython.org>"
   ]
  },
  {
   "cell_type": "markdown",
   "metadata": {},
   "source": [
    "<a rel=\"license\" href=\"http://creativecommons.org/licenses/by-nc-sa/4.0/\"><img alt=\"Creative Commons License\" style=\"border-width:0\" src=\"http://i.creativecommons.org/l/by-nc-sa/4.0/88x31.png\" /></a><br /><span xmlns:dct=\"http://purl.org/dc/terms/\" property=\"dct:title\"><b>Introduction to IPython, SciPy and matplotlib</b></span> by <a xmlns:cc=\"http://creativecommons.org/ns#\" href=\"http://academic.csuohio.edu/fmartins\" property=\"cc:attributionName\" rel=\"cc:attributionURL\">L. Felipe Martins</a> is licensed under a <a rel=\"license\" href=\"http://creativecommons.org/licenses/by-nc-sa/4.0/\">Creative Commons Attribution-NonCommercial-ShareAlike 4.0 International License</a>."
   ]
  }
 ],
 "metadata": {
  "kernelspec": {
   "display_name": "Python 3",
   "language": "python",
   "name": "python3"
  },
  "language_info": {
   "codemirror_mode": {
    "name": "ipython",
    "version": 3
   },
   "file_extension": ".py",
   "mimetype": "text/x-python",
   "name": "python",
   "nbconvert_exporter": "python",
   "pygments_lexer": "ipython3",
   "version": "3.5.1"
  }
 },
 "nbformat": 4,
 "nbformat_minor": 0
}
