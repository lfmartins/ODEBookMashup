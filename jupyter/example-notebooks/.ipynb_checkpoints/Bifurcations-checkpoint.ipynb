{
 "cells": [
  {
   "cell_type": "markdown",
   "metadata": {},
   "source": [
    "# Introduction"
   ]
  },
  {
   "cell_type": "markdown",
   "metadata": {},
   "source": [
    "In this example we introduce tools to help us understand bifurcations of one-dimensional flows. We mostly concentrate on graphical methods, but will illustrate other techniques as convenient. Start by loading `pylab`:"
   ]
  },
  {
   "cell_type": "code",
   "execution_count": 1,
   "metadata": {
    "collapsed": false
   },
   "outputs": [
    {
     "name": "stdout",
     "output_type": "stream",
     "text": [
      "Populating the interactive namespace from numpy and matplotlib\n"
     ]
    }
   ],
   "source": [
    "%pylab inline"
   ]
  },
  {
   "cell_type": "markdown",
   "metadata": {},
   "source": [
    "# Example 1"
   ]
  },
  {
   "cell_type": "markdown",
   "metadata": {},
   "source": [
    "Let's consider the family of one-dimensional flows:\n",
    "$$\n",
    "\\newcommand{\\mtab}{\\quad\\quad\\quad\\quad}\n",
    "\\mtab\\dot{x} = r - x^2\n",
    "$$\n",
    "This system has a saddle-node bifurcation at the parameter value $r_c=0$. If $r>0$, it has two equilibrium points, $x^*_1=-\\sqrt{r}$ (unstable) and $x^*_2=\\sqrt{r}$ (stable).\n",
    "\n",
    "The curve defining the equilibrium points is, of course,\n",
    "$$\n",
    "\\mtab r-x^2=0\n",
    "$$\n",
    "or\n",
    "$$\n",
    "\\mtab r=x^2.\n",
    "$$\n",
    "Plotting this curve in the $r\\times x$ plane is easy enough. We want to be very lazy, so we don't want even to take a square root."
   ]
  },
  {
   "cell_type": "code",
   "execution_count": 3,
   "metadata": {
    "collapsed": false
   },
   "outputs": [
    {
     "data": {
      "image/png": "[encoded data removed]",
      "text/plain": [
       "<matplotlib.figure.Figure at 0x10ef44470>"
      ]
     },
     "metadata": {},
     "output_type": "display_data"
    }
   ],
   "source": [
    "xpos = linspace(0,5,200)\n",
    "rpos = xpos ** 2\n",
    "xneg = linspace(-5,0,200)\n",
    "rneg = xneg ** 2\n",
    "axis([-25,25,-6,6])\n",
    "plot(rpos, xpos, color = 'red', linewidth = 2)\n",
    "plot(rneg, xneg, '--', color = 'red', linewidth = 2)\n",
    "arrow(-10,1,0,-2, head_width = .4, head_length = .3, color = 'blue')\n",
    "arrow(7,5.5,0,-2, head_width = .4, head_length = .3, color = 'blue')\n",
    "arrow(7,-1,0,2, head_width = .4, head_length = .3, color = 'blue')\n",
    "arrow(7,-3.2,0,-2, head_width = .4, head_length = .3, color = 'blue')\n",
    "xlabel('r')\n",
    "ylabel('$x^*$')\n",
    "title('Bifurcation diagram of $\\dot{x}=r-x^2$')\n",
    "None"
   ]
  },
  {
   "cell_type": "markdown",
   "metadata": {},
   "source": [
    "# Example 2"
   ]
  },
  {
   "cell_type": "markdown",
   "metadata": {},
   "source": [
    "This is a more complicated example:\n",
    "$$\n",
    "\\mtab \\dot{x}=r + \\frac{x}{2} - \\frac{x}{1+x}\n",
    "$$\n",
    "For an initial analysis, notice that the condition for an equilibrium can be written as:\n",
    "$$\n",
    "\\mtab r + \\frac{x}{2} = \\frac{x}{1+x},\n",
    "$$\n",
    "which can be interpreted as intersecting the line $r + x/2$ and the curve $x/(1+x)$. The slope of the line is always $1/2$, so the parameter $r$ just determines how high the line is located.\n",
    "\n",
    "A graphical analysis shows that we can have several cases:"
   ]
  },
  {
   "cell_type": "code",
   "execution_count": 5,
   "metadata": {
    "collapsed": false
   },
   "outputs": [
    {
     "data": {
      "image/png": "[encoded data removed]",
      "text/plain": [
       "<matplotlib.figure.Figure at 0x10f1c80b8>"
      ]
     },
     "metadata": {},
     "output_type": "display_data"
    }
   ],
   "source": [
    "xmax = 9\n",
    "xmin = 1-xmax \n",
    "x1 = linspace(-0.999,xmax,100)\n",
    "y1 = x1/(1+x1)\n",
    "x2 = linspace(xmin,-1.001,100)\n",
    "y2 = x2/(1+x2)\n",
    "axis([xmin,xmax,-8,8])\n",
    "plot(x1,y1,x2,y2, linewidth = 2, color = 'blue')\n",
    "x = linspace(xmin,xmax,200)\n",
    "rvals = [-5,-4]\n",
    "for r in rvals:\n",
    "    plot(x, r + x/2, linewidth = 2, color = 'red')\n",
    "rvals = [-0.1,-2.9]\n",
    "for r in rvals:\n",
    "    plot(x, r + x/2, linewidth = 2, color = 'green')"
   ]
  },
  {
   "cell_type": "markdown",
   "metadata": {},
   "source": [
    "The system can have 0, 1 or two equilibria, depending on the value of $r$. The bifurcations (there are two of them) happen when the line is tangent to the curve (the green lines in the picture). To find the values of $r$, we have to solve the tangency condition:\n",
    "$$\n",
    "\\mtab\\frac{d}{dx}\\left[r+\\frac{x}{2}\\right] = \\frac{d}{dx}\\left[\\frac{x}{1+x}\\right]\n",
    "$$\n",
    "or\n",
    "$$\n",
    "\\mtab\\frac{1}{2} = \\frac{1}{(1-x)^2}\n",
    "$$\n"
   ]
  },
  {
   "cell_type": "code",
   "execution_count": null,
   "metadata": {
    "collapsed": false
   },
   "outputs": [],
   "source": []
  }
 ],
 "metadata": {
  "kernelspec": {
   "display_name": "Python 3",
   "language": "python",
   "name": "python3"
  },
  "language_info": {
   "codemirror_mode": {
    "name": "ipython",
    "version": 3
   },
   "file_extension": ".py",
   "mimetype": "text/x-python",
   "name": "python",
   "nbconvert_exporter": "python",
   "pygments_lexer": "ipython3",
   "version": "3.5.1"
  }
 },
 "nbformat": 4,
 "nbformat_minor": 0
}
