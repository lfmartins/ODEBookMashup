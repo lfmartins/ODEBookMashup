{
 "cells": [
  {
   "cell_type": "markdown",
   "metadata": {},
   "source": [
    "In this example we look at the logistic equation:\n",
    "\n",
    "$$\n",
    "\\newcommand{\\mtab}{\\quad\\quad\\quad\\quad}\n",
    "\\mtab\\dot{N} = rN\\left(1-\\frac{N}{K}\\right)\n",
    "$$\n",
    "\n",
    "where $N(t)$ is the population size at time $t$, $r$ is the growth rate and $K$ is the carrying capacity.\n",
    "The solution of the equation is:\n",
    "\n",
    "$$\n",
    "\\mtab N(t) = \\frac{N_0K}{N_0+(K-N_0)e^{-rt}}\n",
    "$$\n",
    "\n",
    "where the initial condition is $N(0)=N_0$. See the appendix at the end of the notebook for a derivation of the solution.\n",
    "\n",
    "Before we start, we load `pylab`:\n"
   ]
  },
  {
   "cell_type": "code",
   "execution_count": 1,
   "metadata": {
    "collapsed": false
   },
   "outputs": [
    {
     "name": "stdout",
     "output_type": "stream",
     "text": [
      "Populating the interactive namespace from numpy and matplotlib\n"
     ]
    }
   ],
   "source": [
    "%pylab inline"
   ]
  },
  {
   "cell_type": "markdown",
   "metadata": {},
   "source": [
    "# Definition of the solution"
   ]
  },
  {
   "cell_type": "markdown",
   "metadata": {},
   "source": [
    "In a situation like this, we want to be able to easily visualize solutions for different values of the parameters. A convenient way organize the computations is to define a function factory that generates the solution for given values of the parameter:"
   ]
  },
  {
   "cell_type": "code",
   "execution_count": 2,
   "metadata": {
    "collapsed": false
   },
   "outputs": [],
   "source": [
    "def make_solution(r, K):\n",
    "    solution = lambda t, N0 : N0 * K / ( N0 + (K - N0) * exp(-r * t) )\n",
    "    return solution"
   ]
  },
  {
   "cell_type": "markdown",
   "metadata": {},
   "source": [
    "The solution returned by `make_solution` takes two inputs: a time $t$ and an initial condition $N_0$. This is usually what we want to do, since we probably want to understand the behavior of the solution for different values of the initial condition.\n",
    "\n",
    "Here is how we can generate and use a solution. We use the parameters $r=0.15$ and $K=23$:"
   ]
  },
  {
   "cell_type": "code",
   "execution_count": 3,
   "metadata": {
    "collapsed": false
   },
   "outputs": [],
   "source": [
    "N = make_solution(0.15, 23)"
   ]
  },
  {
   "cell_type": "code",
   "execution_count": 4,
   "metadata": {
    "collapsed": false
   },
   "outputs": [
    {
     "data": {
      "text/plain": [
       "14.487992941222755"
      ]
     },
     "execution_count": 4,
     "metadata": {},
     "output_type": "execute_result"
    }
   ],
   "source": [
    "N(2.5, 12.4) # Population size at time 2.5 for an initial population of 12.4"
   ]
  },
  {
   "cell_type": "code",
   "execution_count": 5,
   "metadata": {
    "collapsed": false
   },
   "outputs": [
    {
     "data": {
      "text/plain": [
       "array([ 25.3       ,  25.09387001,  24.90760666,  24.73906094,\n",
       "        24.58635545,  24.44784366,  24.32207628,  24.20777343])"
      ]
     },
     "execution_count": 5,
     "metadata": {},
     "output_type": "execute_result"
    }
   ],
   "source": [
    "tvalues = linspace(0, 4, 8)\n",
    "N(tvalues, 25.3)   # Population sizes for 8 equally spaced t values in [0,4]; initial population 25.3"
   ]
  },
  {
   "cell_type": "markdown",
   "metadata": {},
   "source": [
    "# Solution graphs"
   ]
  },
  {
   "cell_type": "markdown",
   "metadata": {},
   "source": [
    "Once the solution is defined, we can easily plot solutions:"
   ]
  },
  {
   "cell_type": "code",
   "execution_count": 6,
   "metadata": {
    "collapsed": false
   },
   "outputs": [
    {
     "data": {
      "text/plain": [
       "[<matplotlib.lines.Line2D at 0x10e812e10>]"
      ]
     },
     "execution_count": 6,
     "metadata": {},
     "output_type": "execute_result"
    },
    {
     "data": {
      "image/png": "[encoded data removed]",
      "text/plain": [
       "<matplotlib.figure.Figure at 0x10c400e80>"
      ]
     },
     "metadata": {},
     "output_type": "display_data"
    }
   ],
   "source": [
    "t = linspace(-30, 30, 300)\n",
    "plot(t,N(t, 12.4))"
   ]
  },
  {
   "cell_type": "markdown",
   "metadata": {},
   "source": [
    "To plot several solutions in the same graph, we can use a `for` loop:"
   ]
  },
  {
   "cell_type": "code",
   "execution_count": 7,
   "metadata": {
    "collapsed": false
   },
   "outputs": [
    {
     "data": {
      "image/png": "[encoded data removed]",
      "text/plain": [
       "<matplotlib.figure.Figure at 0x10c4aee48>"
      ]
     },
     "metadata": {},
     "output_type": "display_data"
    }
   ],
   "source": [
    "initial_conditions = [0, 5, 15, 23, 30]\n",
    "xmin = -5\n",
    "xmax = 30\n",
    "ymin = -5\n",
    "ymax = 40\n",
    "npoints = 300\n",
    "axis([xmin, xmax, ymin, ymax])  # Set axis bounds\n",
    "t = linspace(xmin, xmax, npoints)\n",
    "for N0 in initial_conditions:\n",
    "    plot(t, N(t, N0))"
   ]
  },
  {
   "cell_type": "markdown",
   "metadata": {},
   "source": [
    "In the next cell, it is shown how to change some of the options in the plot. Here is what we do:\n",
    "\n",
    "- Draw all solutions with the same color (let's face it, the default choice of colors is horrible).\n",
    "- Make solution lines thicker.\n",
    "- Add a vertical line at $x=0$ for easy visualization of initial conditions.\n",
    "- Add labels\n",
    "- Add a title\n",
    "\n",
    "Notice the use of $\\TeX$ in the axis labels and title."
   ]
  },
  {
   "cell_type": "code",
   "execution_count": 8,
   "metadata": {
    "collapsed": false
   },
   "outputs": [
    {
     "data": {
      "image/png": "[encoded data removed]",
      "text/plain": [
       "<matplotlib.figure.Figure at 0x10ed04c18>"
      ]
     },
     "metadata": {},
     "output_type": "display_data"
    }
   ],
   "source": [
    "initial_conditions = [0, 5, 15, 23, 30]\n",
    "xmin = -5\n",
    "xmax = 30\n",
    "ymin = -5\n",
    "ymax = 40\n",
    "npoints = 300\n",
    "axis([xmin, xmax, ymin, ymax])  # Set axis bounds\n",
    "t = linspace(xmin, xmax, npoints)\n",
    "xlabel('$t$')\n",
    "ylabel('$N(t)$')\n",
    "title('Solutions of logistic equation for $r=0.15$, $K=23$')\n",
    "axvline(x = 0, color = 'black', linewidth = 1.5)\n",
    "for N0 in initial_conditions:\n",
    "    plot(t, N(t, N0), color = 'blue', linewidth = 2)"
   ]
  },
  {
   "cell_type": "code",
   "execution_count": null,
   "metadata": {
    "collapsed": false
   },
   "outputs": [],
   "source": []
  }
 ],
 "metadata": {
  "kernelspec": {
   "display_name": "Python 3",
   "language": "python",
   "name": "python3"
  },
  "language_info": {
   "codemirror_mode": {
    "name": "ipython",
    "version": 3
   },
   "file_extension": ".py",
   "mimetype": "text/x-python",
   "name": "python",
   "nbconvert_exporter": "python",
   "pygments_lexer": "ipython3",
   "version": "3.5.1"
  }
 },
 "nbformat": 4,
 "nbformat_minor": 0
}
