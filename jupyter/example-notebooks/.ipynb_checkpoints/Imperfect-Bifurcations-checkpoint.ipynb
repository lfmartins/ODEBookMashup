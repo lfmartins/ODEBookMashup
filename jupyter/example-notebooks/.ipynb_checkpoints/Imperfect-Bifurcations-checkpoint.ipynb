{
 "cells": [
  {
   "cell_type": "markdown",
   "metadata": {},
   "source": [
    "# Introduction"
   ]
  },
  {
   "cell_type": "markdown",
   "metadata": {},
   "source": [
    "In this worksheet we consider the system:\n",
    "$$\n",
    "\\newcommand{\\mtab}{\\quad\\quad\\quad\\quad}\n",
    "\\mtab \\dot{x}=h+rx-x^3,\n",
    "$$\n",
    "with two parameters, $h$ and $r$, which can be arbitrary real numbers. If $h=0$, we get a one-parameter family with a supercritical pitchfork bifurcation. We refer to $h$ as an _imperfection parameter_."
   ]
  },
  {
   "cell_type": "code",
   "execution_count": 1,
   "metadata": {
    "collapsed": false
   },
   "outputs": [
    {
     "name": "stdout",
     "output_type": "stream",
     "text": [
      "Populating the interactive namespace from numpy and matplotlib\n"
     ]
    }
   ],
   "source": [
    "%pylab inline"
   ]
  },
  {
   "cell_type": "markdown",
   "metadata": {},
   "source": [
    "# Bifurcations for Fixed $r$"
   ]
  },
  {
   "cell_type": "markdown",
   "metadata": {},
   "source": [
    "One strategy to study a two-parameter family like the one here is to vary each parameter separately. We first consider the case of $r$ fixed.\n",
    "\n",
    "The fixed points correspond to the intersections of the cubic $y=rx-x^3$ and the line $y=-h$. It is also good to keep in mind that:\n",
    "\n",
    "- If the the cubic is above the line $y=-h$ , then the flow moves to the right;\n",
    "\n",
    "- If the the cubic is below the line $y=-h$ , then the flow moves to the left.\n",
    "\n",
    "First, let's consider what happens is $r<=0$. In this case, the cubic $y=r^x-x^3$ is strictly decreasing, and crosses any vertical line $y=h$. The figure below shows what happens for $r=-1$:"
   ]
  },
  {
   "cell_type": "code",
   "execution_count": 3,
   "metadata": {
    "collapsed": false
   },
   "outputs": [
    {
     "name": "stdout",
     "output_type": "stream",
     "text": [
      "auto\n"
     ]
    },
    {
     "data": {
      "image/png": "[encoded data removed]",
      "text/plain": [
       "<matplotlib.figure.Figure at 0x10c6ceef0>"
      ]
     },
     "metadata": {},
     "output_type": "display_data"
    }
   ],
   "source": [
    "r = -1\n",
    "x0 = -1.5\n",
    "h = -(r * x0 - x0**3)\n",
    "x = linspace(-2,2,200)\n",
    "ycubic = r * x - x**3\n",
    "axhline(0, lw=2, color='black')\n",
    "plot(x, ycubic, lw=2, color='blue')\n",
    "axhline(-h, lw=2, color='red')\n",
    "fig = gcf()\n",
    "art = fig.gca()\n",
    "c1 = Circle((-1.5,0), radius=0.2)\n",
    "art.add_artist(c1)\n",
    "xlabel('x')\n",
    "annotate('$y=rx-x^3$', xy=(1.0,-1.5))\n",
    "annotate('$y=-h$', xy=(1.0,-h+.5))\n",
    "print(axes().get_aspect())"
   ]
  },
  {
   "cell_type": "code",
   "execution_count": null,
   "metadata": {
    "collapsed": false
   },
   "outputs": [],
   "source": []
  }
 ],
 "metadata": {
  "kernelspec": {
   "display_name": "Python 3",
   "language": "python",
   "name": "python3"
  },
  "language_info": {
   "codemirror_mode": {
    "name": "ipython",
    "version": 3
   },
   "file_extension": ".py",
   "mimetype": "text/x-python",
   "name": "python",
   "nbconvert_exporter": "python",
   "pygments_lexer": "ipython3",
   "version": "3.5.1"
  }
 },
 "nbformat": 4,
 "nbformat_minor": 0
}
