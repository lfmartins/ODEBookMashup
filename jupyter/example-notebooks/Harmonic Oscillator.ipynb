{
 "cells": [
  {
   "cell_type": "markdown",
   "metadata": {},
   "source": [
    "# Introduction"
   ]
  },
  {
   "cell_type": "markdown",
   "metadata": {},
   "source": [
    "In this lesson, we will present a \"case study\" of how to use IPython to study a physical system. We will use some Python constructs that were not introduced in the first two lessons, since the goal is to give a taste of what are the possibilities. Later lessons will cover the language details omitted here.\n",
    "\n",
    "We consider a spring-mass system with mass $m$, spring constant $k$ and damping coefficient $c$ (we omit units, but these would of course be important in a real application). This system is governed by the second order differential equation:\n",
    "\n",
    "$$\n",
    "\\newcommand{\\mtab}{\\quad\\quad\\quad\\quad}\n",
    "\\mtab m\\frac{d^2x}{dt^2}+c\\frac{dx}{dt}+kx=0\n",
    "$$\n",
    "\n",
    "where $t$ represents time and $x=x(t)$ represents the position of the spring.\n",
    "\n",
    "We don't use Python to solve the differential equation, since we know how to find the solution analytically. Later we will learn how to use SciPy to compute numerical solutions for differential equations, but this is not needed here. \n",
    "\n",
    "Writing a single solution valid for all possible values of $m$, $k$ and $c$ is problematic, since the system will behave differently depending on how strong the damping term is. To simplify things, we assume that the system is _underdamped_, which happens if \n",
    "$c^2-4mk<0$.\n",
    "\n",
    "Then, the solution of the differential equation can be written as:\n",
    "\n",
    "$$\n",
    "\\mtab x(t) = e^{-\\beta t}\\left(x_0\\cos(\\omega t) + \\frac{v_0+\\beta x_0}{\\omega}\\sin(\\omega t)\\right)\n",
    "$$\n",
    "\n",
    "where\n",
    "\n",
    "$$\n",
    "\\mtab \\beta = \\frac{c}{2m}, \\quad \\omega = \\frac{\\sqrt{4mk-c^2}}{2m}\n",
    "$$\n",
    "\n",
    "and $x_0$ and $v_0$ are, respectively, the initial position and initial velocity of the mass (at $t=0$).\n",
    "\n",
    "There is one last thing we need before we start. We need to import the library with mathematical and plotting functions. This is done evaluating the following cell:\n"
   ]
  },
  {
   "cell_type": "code",
   "execution_count": 1,
   "metadata": {
    "collapsed": false
   },
   "outputs": [
    {
     "name": "stdout",
     "output_type": "stream",
     "text": [
      "Populating the interactive namespace from numpy and matplotlib\n"
     ]
    }
   ],
   "source": [
    "%pylab inline"
   ]
  },
  {
   "cell_type": "markdown",
   "metadata": {},
   "source": [
    "# Defining the solution"
   ]
  },
  {
   "cell_type": "markdown",
   "metadata": {},
   "source": [
    "As most problems in in the real world, the spring-mass system is defined in terms of _parameters_ ($m$, $k$ and $c$). The solution also depends on _initial conditions_ ($x_0$ and $v_0$).\n",
    "\n",
    "SciPy, being a library for numerical computations, does not support _symbolic expressions_, that is, we cannot simply define an expression representing the solution in terms of generic variables $m$, $k$, $c$, $x_0$ and $v_0$. Unfortunately, the easiest thing to do is to use a somewhat advanced Python pattern called a _function factory_.\n",
    "\n",
    "For now, just accept that the following code will produce \"something\" that represents a solution of the system:\n",
    "\n",
    "(You must evaluate the following cell. It will produce no output.)"
   ]
  },
  {
   "cell_type": "code",
   "execution_count": 2,
   "metadata": {
    "collapsed": false
   },
   "outputs": [],
   "source": [
    "def make_solution(m, k, c, x0, v0):\n",
    "    beta = c / (2*m)\n",
    "    omega = sqrt(4*m*k - c**2) / (2*m)\n",
    "    solution = lambda t, x0, v0: exp(-beta*t) * (x0 * cos(omega*t) + (v0 + beta*x0)/omega * sin(omega*t))\n",
    "    return solution"
   ]
  },
  {
   "cell_type": "markdown",
   "metadata": {},
   "source": [
    "# Using the solution"
   ]
  },
  {
   "cell_type": "markdown",
   "metadata": {},
   "source": [
    "Now suppose we want to study the solution for the parameter values:\n",
    "\n",
    "$$\n",
    "\\mtab m=2.0,\\quad k=1.0,\\quad c=0.25\n",
    "$$\n",
    "\n",
    "and initial conditions\n",
    "\n",
    "$$\n",
    "\\mtab x_0 = 0.0, \\quad v_0=1.0\n",
    "$$\n",
    "\n",
    "This is all we have to do to generate the solution:\n",
    "\n",
    "(_Important note_: enter all arguments as floating point numbers.)"
   ]
  },
  {
   "cell_type": "code",
   "execution_count": 3,
   "metadata": {
    "collapsed": false
   },
   "outputs": [],
   "source": [
    "x = make_solution(2.0, 1.0, 0.25, 0.0, 1.0)"
   ]
  },
  {
   "cell_type": "markdown",
   "metadata": {},
   "source": [
    "Again, there is no output when this cell is evaluated. But now we can use `x` to compute solution values. So, for example, to find the position of the mass at time $t = 2.5$ we evaluate:"
   ]
  },
  {
   "cell_type": "code",
   "execution_count": 4,
   "metadata": {
    "collapsed": false
   },
   "outputs": [
    {
     "data": {
      "text/plain": [
       "1.19252817202201"
      ]
     },
     "execution_count": 4,
     "metadata": {},
     "output_type": "execute_result"
    }
   ],
   "source": [
    "x(2.5, 0.0, 1.0)"
   ]
  },
  {
   "cell_type": "markdown",
   "metadata": {},
   "source": [
    "We can use a Python construct called _list comprehension_ to compute several values of the solution:"
   ]
  },
  {
   "cell_type": "code",
   "execution_count": 5,
   "metadata": {
    "collapsed": false
   },
   "outputs": [
    {
     "data": {
      "text/plain": [
       "[0.0,\n",
       " 0.47466125001525933,\n",
       " 0.86364428708086782,\n",
       " 1.1254944222780077,\n",
       " 1.236513972432546,\n",
       " 1.19252817202201,\n",
       " 1.0082029646460724]"
      ]
     },
     "execution_count": 5,
     "metadata": {},
     "output_type": "execute_result"
    }
   ],
   "source": [
    "[ x(t, 0.0, 1.0) for t in [0, 0.5, 1, 1.5, 2, 2.5, 3] ] "
   ]
  },
  {
   "cell_type": "markdown",
   "metadata": {},
   "source": [
    "# Plotting"
   ]
  },
  {
   "cell_type": "markdown",
   "metadata": {},
   "source": [
    "Let's now plot the solution. We will be using a module called `pyplot` from the library `matplotlib`. Fortunately, the libraries are used transparently (That's what the cell with `%pylab inline` at the beginnning of the worksheet does.)\n",
    "\n",
    "To produce a plot, we need first to specify an array with the $t$ values at which we want the plot. It is not absolutely necessary, but we also put the corresponding $x$ values on an array:"
   ]
  },
  {
   "cell_type": "code",
   "execution_count": 8,
   "metadata": {
    "collapsed": false
   },
   "outputs": [],
   "source": [
    "tvalues = linspace(0, 20*pi, 100)\n",
    "xvalues = x(tvalues, 0, 1)"
   ]
  },
  {
   "cell_type": "markdown",
   "metadata": {},
   "source": [
    "After you evaluate this cell:\n",
    "\n",
    "- `tvalues` contains 100 equally spaced points in the interval $[0,20\\pi]$.\n",
    "- `xvalues` contains the corresponding values of $x(t)$\n",
    "\n",
    "To plot the solution we simply write:"
   ]
  },
  {
   "cell_type": "code",
   "execution_count": 9,
   "metadata": {
    "collapsed": false
   },
   "outputs": [
    {
     "data": {
      "text/plain": [
       "[<matplotlib.lines.Line2D at 0x10e83c390>]"
      ]
     },
     "execution_count": 9,
     "metadata": {},
     "output_type": "execute_result"
    },
    {
     "data": {
      "image/png": "[encoded data removed]",
      "text/plain": [
       "<matplotlib.figure.Figure at 0x106769588>"
      ]
     },
     "metadata": {},
     "output_type": "display_data"
    }
   ],
   "source": [
    "plot(tvalues, xvalues)"
   ]
  },
  {
   "cell_type": "markdown",
   "metadata": {},
   "source": [
    "# Exercises"
   ]
  },
  {
   "cell_type": "code",
   "execution_count": null,
   "metadata": {
    "collapsed": false
   },
   "outputs": [],
   "source": []
  }
 ],
 "metadata": {
  "kernelspec": {
   "display_name": "Python 3",
   "language": "python",
   "name": "python3"
  },
  "language_info": {
   "codemirror_mode": {
    "name": "ipython",
    "version": 3
   },
   "file_extension": ".py",
   "mimetype": "text/x-python",
   "name": "python",
   "nbconvert_exporter": "python",
   "pygments_lexer": "ipython3",
   "version": "3.5.1"
  }
 },
 "nbformat": 4,
 "nbformat_minor": 0
}
