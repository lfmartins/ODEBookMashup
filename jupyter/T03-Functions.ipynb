{
 "cells": [
  {
   "cell_type": "markdown",
   "metadata": {},
   "source": [
    "# Introduction"
   ]
  },
  {
   "cell_type": "markdown",
   "metadata": {},
   "source": [
    "Much of the power and convenience of a package like SciPy comes in the form of _functions_. A function in programming is very much like a function in mathematics: it takes a certain number of inputs, and computes an output (Python functions can have more than one output, which is very convenient).\n",
    "\n",
    "Python itself comes with a useful and limited number of functions. These can be extended by _modules_, which are collections of functions (and objects), organized by functionality.\n",
    "\n",
    "When working with iPython for scientific computing, it is convenient to import all the functions we might use, evaluating the cell below:"
   ]
  },
  {
   "cell_type": "code",
   "execution_count": null,
   "metadata": {
    "collapsed": false
   },
   "outputs": [],
   "source": [
    "%pylab inline"
   ]
  },
  {
   "cell_type": "markdown",
   "metadata": {},
   "source": [
    "This imports  essentially everything we need. If you have a programming background, you may be concerned that this will cause _namespace pollution_, and you would be right. We will later discuss how to control imports more strictly. For most purposes, importing everything causes no problem."
   ]
  },
  {
   "cell_type": "markdown",
   "metadata": {},
   "source": [
    "# Calling a function"
   ]
  },
  {
   "cell_type": "markdown",
   "metadata": {},
   "source": [
    "Calling a function in Python is pretty much the same as what we do in mathematics. For example, to compute $\\sin(\\pi/3)$ we evaluate:"
   ]
  },
  {
   "cell_type": "code",
   "execution_count": null,
   "metadata": {
    "collapsed": false
   },
   "outputs": [],
   "source": [
    "sin(pi/3)"
   ]
  },
  {
   "cell_type": "markdown",
   "metadata": {},
   "source": [
    "We say that `pi/3` is the _argument_ of this function call, and 0.8660254037844386 is its _return value_.\n",
    "\n",
    "If we want to get information about a function in iPython, just type its name followed by `?` and evaluate the cell:"
   ]
  },
  {
   "cell_type": "code",
   "execution_count": null,
   "metadata": {
    "collapsed": false
   },
   "outputs": [],
   "source": [
    "sin?"
   ]
  },
  {
   "cell_type": "markdown",
   "metadata": {},
   "source": [
    "Take a brief look at the documentation window that pops at the bottom of the page. You will see that it has some pretty good information about the function (including some of its mathematical properties).\n",
    "\n",
    "If you read the examples and try to reproduce them, notice that the function is invoked with syntax like `np.sin` instead of just `sin`. This has to do with the way the function is imported. In case you want to try the examples, simply enter the \"naked\" function name. This is one of the benefits of having invoked `%pylab`.\n",
    "\n",
    "To illustrate the use of logarithmic and exponential functions, let's solve a problem:\n",
    "\n",
    "> A cell culture is growing exponentially in such a way that the number of cells doubles in size every 12.4 minutes. If the initial population is 6 cells, how long will it take to have 100,000 cells in the culture?\n",
    "\n",
    "The formula for the population $P(t)$ at time $t$ is $P(t)=6\\times 2^{t/12.4}$. Thus, the time at which the population is 1,000,000 can be found by solving the equation:\n",
    "$$\n",
    "100,000 = 2^{t/12.4}\n",
    "$$\n",
    "That is:\n",
    "$$\n",
    "t = \\frac{12.4\\times\\ln(100,000)}{6\\times\\ln(2)}\n",
    "$$\n",
    "We compute this as follows"
   ]
  },
  {
   "cell_type": "code",
   "execution_count": null,
   "metadata": {
    "collapsed": false
   },
   "outputs": [],
   "source": [
    "Pinit = 6\n",
    "doubling_time = 12.4\n",
    "Pfinal = 1000000\n",
    "tfinal = doubling_time * log(Pfinal) / (Pinit * log(2))\n",
    "print (\"The time it takes for the culture to have 1,000,000 cells is {:5.2f} minutes\".format(tfinal))"
   ]
  },
  {
   "cell_type": "markdown",
   "metadata": {},
   "source": [
    "Notice that we assigned the problem data to variables with meaninful names. This is good practice, since it makes the computation more intuitive, and allows easy reuse.\n",
    "\n",
    "Also notice that the natural logarithm is denoted by $\\log$, not $\\ln$. This usage is almost universal in professional practice today."
   ]
  },
  {
   "cell_type": "markdown",
   "metadata": {},
   "source": [
    "# Writing functions"
   ]
  },
  {
   "cell_type": "markdown",
   "metadata": {},
   "source": [
    "Efficient use of Python and SciPy requires that we define our own functions. The numerical methods in SciPy often require a function as input, for example.\n",
    "\n",
    "Function definition is done with the keywork `def`. In the cell below, we define a function that computes the sine of an angle given in degrees:"
   ]
  },
  {
   "cell_type": "code",
   "execution_count": null,
   "metadata": {
    "collapsed": false
   },
   "outputs": [],
   "source": [
    "def sin_deg(theta):\n",
    "    theta = pi * theta / 180\n",
    "    return sin(theta)"
   ]
  },
  {
   "cell_type": "markdown",
   "metadata": {},
   "source": [
    "There are quite a few things to note in this piece of code:\n",
    "\n",
    "- The input variable is `theta`\n",
    "- We first compute the angle in radians, and assig it to the variable `theta`.\n",
    "- Then we return `sin(theta)`. The keyword `return` is used to specify the output (or _return value_) of the function.\n",
    "- _Notice the indentation_. Indentation is the way blocks of code are defined in Python. Python code will not compile correctly if indentation is not correct.\n",
    "\n",
    "For example, we can compute:"
   ]
  },
  {
   "cell_type": "code",
   "execution_count": null,
   "metadata": {
    "collapsed": false
   },
   "outputs": [],
   "source": [
    "sin_deg(30)"
   ]
  },
  {
   "cell_type": "markdown",
   "metadata": {},
   "source": [
    "Observant readers may have the following question: doesn't reusing the variable `theta` inside the function change its value? No, it doesn't. When a variable is passed to a function, a _local copy_ of the variable is made, and only this local copy is changed. When the function exits, the local copy is discarded.\n",
    "\n",
    "We can check this:"
   ]
  },
  {
   "cell_type": "code",
   "execution_count": null,
   "metadata": {
    "collapsed": false
   },
   "outputs": [],
   "source": [
    "my_theta = 50\n",
    "print(\"Before the function call, my_theta is {}\".format(my_theta))\n",
    "sine = sin(my_theta)\n",
    "print (\"The sine of {} degrees is {}\".format(my_theta, sine))\n",
    "print (\"After the function call, my_theta is {}\".format(my_theta))"
   ]
  },
  {
   "cell_type": "markdown",
   "metadata": {},
   "source": [
    "This demonstrates that the function does not change its input value. This rule is universal in Python: when a function is called, a local copy of the arguments is _always_ made. This convention is called _passing argumentsby value_.\n",
    "\n",
    "Functions can have more than one input. Let's say we want to define a function that returns the distance of a point $(x,y)$ to the origin. We can define it in the following way:"
   ]
  },
  {
   "cell_type": "code",
   "execution_count": null,
   "metadata": {
    "collapsed": false
   },
   "outputs": [],
   "source": [
    "def dist(xvalue, yvalue):\n",
    "    return sqrt(xvalue*xvalue + yvalue*yvalue)"
   ]
  },
  {
   "cell_type": "code",
   "execution_count": null,
   "metadata": {
    "collapsed": false
   },
   "outputs": [],
   "source": [
    "dist(20,15)"
   ]
  },
  {
   "cell_type": "code",
   "execution_count": null,
   "metadata": {
    "collapsed": false
   },
   "outputs": [],
   "source": [
    "dist(-3,5)"
   ]
  },
  {
   "cell_type": "markdown",
   "metadata": {},
   "source": [
    "A very useful Python feature is that functions can also _return_ more than one value. Let's say that we want a function that, besides the distance from $P=(x,y)$ to the origin $O$, also computes the angle that the segment $OP$ makes with the $x$ axis. This is how we can do it:"
   ]
  },
  {
   "cell_type": "code",
   "execution_count": null,
   "metadata": {
    "collapsed": false
   },
   "outputs": [],
   "source": [
    "def dist_angle(xvalue, yvalue):\n",
    "    d = sqrt(xvalue*xvalue + yvalue*yvalue)\n",
    "    if xvalue == 0:\n",
    "        if yvalue >= 0:\n",
    "            return d, pi/2\n",
    "        else:\n",
    "            return d, -pi/2\n",
    "    return d, arctan(yvalue / xvalue)"
   ]
  },
  {
   "cell_type": "markdown",
   "metadata": {},
   "source": [
    "The code in this function is not as trivial as the previous ones. Much of the extra complication comes from the fact that the angle can be expressed as:\n",
    "$$\n",
    "\\theta = \\frac{y}{x}\n",
    "$$\n",
    "but, of course, this can't be used when $x$ is zero. That case is taken care by the `if` statements. \n",
    "Here is an example of the function `dist_angle` being used:"
   ]
  },
  {
   "cell_type": "code",
   "execution_count": null,
   "metadata": {
    "collapsed": false
   },
   "outputs": [],
   "source": [
    "dist_angle(20,15)"
   ]
  },
  {
   "cell_type": "markdown",
   "metadata": {},
   "source": [
    "Notice how the result is returned: the return value is a _tuple_, which is a data structure that contains a list of objects (in this case, the objects are floats). There is a handy way to unpack tuples and assign the values to separate variables, as shown in the next cell:"
   ]
  },
  {
   "cell_type": "code",
   "execution_count": null,
   "metadata": {
    "collapsed": false
   },
   "outputs": [],
   "source": [
    "r, theta = dist_angle(20, 15)\n",
    "print(\"The distance is {} and the angle is {}\".format(r,theta))"
   ]
  },
  {
   "cell_type": "markdown",
   "metadata": {},
   "source": [
    "# Lambda functions and function factories"
   ]
  },
  {
   "cell_type": "markdown",
   "metadata": {},
   "source": [
    "This section contains more advanced techniques that will be needed later. It can be skipped for now.\n",
    "\n",
    "There is another way to define a function in Python called a _lambda function_. A lambda function is just a function defined \"in place\". This is the syntax:"
   ]
  },
  {
   "cell_type": "code",
   "execution_count": null,
   "metadata": {
    "collapsed": false
   },
   "outputs": [],
   "source": [
    "f = lambda x : x ** 2 + 1"
   ]
  },
  {
   "cell_type": "markdown",
   "metadata": {},
   "source": [
    "Notice that there is no output. The expression that defines the function is:\n",
    "\n",
    "    lambda x : x ** 2 + 1\n",
    "    \n",
    "The keyword `lambda` indicates that we are defining a function. Then comes the argument(s) of the function, followed by the return value. Thus, the function above corresponds to the mathematical function $f(x) = x^2+1$. We can now use it as a regular function:"
   ]
  },
  {
   "cell_type": "code",
   "execution_count": null,
   "metadata": {
    "collapsed": false
   },
   "outputs": [],
   "source": [
    "f(3.5)"
   ]
  },
  {
   "cell_type": "markdown",
   "metadata": {},
   "source": [
    "The keyword `lambda` comes from the _lambda calculus_, which is a formalization of mathematica computation invented by the logician Alonzo Church. It was introduced in Python for a style of programming called _functional programming_.\n",
    "\n",
    "Notice that lambdas can be used only for functions whose output value consists of a single expression. However, the number of variables is arbitrary. For example, a function that computes the distance from a point ($x,y$) to the origin could be defined as:"
   ]
  },
  {
   "cell_type": "code",
   "execution_count": null,
   "metadata": {
    "collapsed": false
   },
   "outputs": [],
   "source": [
    "dist = lambda x, y : ((x ** 2) + (y ** 2)) ** 0.5"
   ]
  },
  {
   "cell_type": "code",
   "execution_count": null,
   "metadata": {
    "collapsed": false
   },
   "outputs": [],
   "source": [
    "dist(3, -1)"
   ]
  },
  {
   "cell_type": "code",
   "execution_count": null,
   "metadata": {
    "collapsed": false
   },
   "outputs": [],
   "source": [
    "dist(1, 1)"
   ]
  },
  {
   "cell_type": "markdown",
   "metadata": {},
   "source": [
    "We now discuss a pretty advanced Python technique: _function factories_. To illustrate this concept, suppose that we need to work with a quadratic expression of the type $ax^2+bx+c$, but we don't know the values of the coefficients beforehand. We will need to do several operations with the quadratic, such as computing values, graphing, solving equations. Furthermore, we will want to do the same operation to several different quadratics.\n",
    "\n",
    "A convenient way to do that is to use a function factory. This is \"a function that creates functions\". Here is standard syntax:"
   ]
  },
  {
   "cell_type": "code",
   "execution_count": null,
   "metadata": {
    "collapsed": false
   },
   "outputs": [],
   "source": [
    "def make_quadratic(a, b, c):\n",
    "    quadratic = lambda x : a * x ** 2 + b * x + c\n",
    "    return quadratic"
   ]
  },
  {
   "cell_type": "markdown",
   "metadata": {},
   "source": [
    "We can than use this to create all the quadratics we need:"
   ]
  },
  {
   "cell_type": "code",
   "execution_count": null,
   "metadata": {
    "collapsed": false
   },
   "outputs": [],
   "source": [
    "q1 = make_quadratic(2, -1, 4)\n",
    "q2 = make_quadratic(3, 0, -2)"
   ]
  },
  {
   "cell_type": "markdown",
   "metadata": {},
   "source": [
    "We can now use `q1` and `q2` like regular functions:"
   ]
  },
  {
   "cell_type": "code",
   "execution_count": null,
   "metadata": {
    "collapsed": false
   },
   "outputs": [],
   "source": [
    "q1(3)"
   ]
  },
  {
   "cell_type": "code",
   "execution_count": null,
   "metadata": {
    "collapsed": false
   },
   "outputs": [],
   "source": [
    "q2(4)"
   ]
  },
  {
   "cell_type": "markdown",
   "metadata": {},
   "source": [
    "Here is how we would graph the two quadratics (graphing is discussed in a further lesson):"
   ]
  },
  {
   "cell_type": "code",
   "execution_count": null,
   "metadata": {
    "collapsed": false
   },
   "outputs": [],
   "source": [
    "%matplotlib inline"
   ]
  },
  {
   "cell_type": "code",
   "execution_count": null,
   "metadata": {
    "collapsed": false
   },
   "outputs": [],
   "source": [
    "import numpy as np\n",
    "import matplotlib.pyplot as plt"
   ]
  },
  {
   "cell_type": "code",
   "execution_count": null,
   "metadata": {
    "collapsed": false
   },
   "outputs": [],
   "source": [
    "x = np.linspace(-5,5,100)\n",
    "y1 = q1(x)\n",
    "y2 = q2(x)\n",
    "plt.plot(x, y1, x, y2)"
   ]
  },
  {
   "cell_type": "markdown",
   "metadata": {},
   "source": [
    "# Exercises"
   ]
  },
  {
   "cell_type": "markdown",
   "metadata": {},
   "source": [
    "__1__. Write a function that, given the radius $r$ of a sphere, returns the volume of the sphere, given by:\n",
    "$$\n",
    "V=\\frac{4}{3}\\pi r^3.\n",
    "$$\n",
    "Test your function with various input values, both integers and floating point numbers."
   ]
  },
  {
   "cell_type": "code",
   "execution_count": null,
   "metadata": {
    "collapsed": false
   },
   "outputs": [],
   "source": []
  },
  {
   "cell_type": "markdown",
   "metadata": {},
   "source": [
    "__2__. Write a function that, given the radius $r$ of a sphere, returns two values, the volume and surface area of the sphere. The surface area is given by:\n",
    "$$\n",
    "A=4\\pi r^2\n",
    "$$\n",
    "Test your function with various input values, both integers and floating point numbers. "
   ]
  },
  {
   "cell_type": "code",
   "execution_count": null,
   "metadata": {
    "collapsed": false
   },
   "outputs": [],
   "source": []
  },
  {
   "cell_type": "markdown",
   "metadata": {},
   "source": [
    "__3__. Write a function that, given three coefficients $a$, $b$, $c$, outputs the two solutions of the quadratic $ax^2+bx+c=0$. Test your functions with several values of the coefficients, both integers and floating point numbers. Make sure you are getting the correct output in all cases."
   ]
  },
  {
   "cell_type": "code",
   "execution_count": null,
   "metadata": {
    "collapsed": false
   },
   "outputs": [],
   "source": []
  },
  {
   "cell_type": "markdown",
   "metadata": {},
   "source": [
    "__4__. Does your function of Problem 3 produce the correct results if the solutions of the quadratic are not real numbers? Modify your function in such a way that:\n",
    "\n",
    "- If the solution is real, the output is a floating point number.\n",
    "- If the solution is not real, the output is a complex number.\n",
    "\n",
    "_Hint_: To distinguish the two cases, you can look at the discriminant $\\Delta = b^2-4ac$. You will need to use the `if` command, according to the pattern:\n",
    "\n",
    "    delta = b ** 2 - 4 * a * c\n",
    "    if delta >= 0:\n",
    "        ... root computation if roots are real ...\n",
    "        x1 = ...\n",
    "        x2 = ...\n",
    "    else:\n",
    "        ... root computation if roots are not real ...\n",
    "        x1 = ...\n",
    "        x2 = ...\n",
    "    return x1, x2\n",
    "    \n",
    "You have to indent your code exactly as in the outline above."
   ]
  },
  {
   "cell_type": "code",
   "execution_count": null,
   "metadata": {
    "collapsed": false
   },
   "outputs": [],
   "source": []
  },
  {
   "cell_type": "markdown",
   "metadata": {},
   "source": [
    "__*5__. Modify your function from the previous examples so that the type of the result reflects the type of the inputs. More specifically:\n",
    "\n",
    "- If the inputs are not all real, the output should be a complex number.\n",
    "- If the inputs are all integer or floating point numbers, the output should be a floating point number, if possible (of course, even in this case the output could be complex).\n",
    "\n",
    "_Hint_: You can organize your computation as follows:\n",
    "\n",
    "    if type(a) == complex or type(b) == complex or type(c) == complex:\n",
    "        ... computation in the case of complex coefficients ...\n",
    "        x1 = ...\n",
    "        x2 = ...\n",
    "    else:\n",
    "        delta = b ** 2 - 4 * a * c\n",
    "        if delta >= 0:\n",
    "            ... computation in the case of real coefficients, but complex roots ...\n",
    "            x1 = ...\n",
    "            x2 = ...\n",
    "        else:\n",
    "            ... computation in the case of real coefficients, real roots ...\n",
    "            x1 = ...\n",
    "            x2 = ...\n",
    "    return x1, x2\n",
    "    \n",
    "Be very careful with indentation!"
   ]
  },
  {
   "cell_type": "code",
   "execution_count": null,
   "metadata": {
    "collapsed": false
   },
   "outputs": [],
   "source": []
  },
  {
   "cell_type": "markdown",
   "metadata": {},
   "source": [
    "__6__. Define a function that, given four inputs $a$, $b$, $c$ and $d$, returns the determinant of the matrix:\n",
    "$$\n",
    "\\left(\n",
    "\\begin{matrix}\n",
    "a&b\\\\\n",
    "c&d\\\\\n",
    "\\end{matrix}\n",
    "\\right)\n",
    "$$\n",
    "As usual, test your function for several different input values."
   ]
  },
  {
   "cell_type": "code",
   "execution_count": null,
   "metadata": {
    "collapsed": false
   },
   "outputs": [],
   "source": []
  },
  {
   "cell_type": "markdown",
   "metadata": {},
   "source": [
    "__7__. Use the function defined in the previous exercise to write a function that, given inputs $a$, $b$, $c$, $d$, $r$ and $s$, returns the solution $(x,y)$ of the system:\n",
    "$$\n",
    "\\begin{align*}\n",
    "ax+by &= r\\\\\n",
    "cx+dy &= s\n",
    "\\end{align*}\n",
    "$$\n",
    "Test your function for several different input values.\n",
    "_Hint_: Use [Cramer's rule](http://mathworld.wolfram.com/CramersRule.html)"
   ]
  },
  {
   "cell_type": "code",
   "execution_count": null,
   "metadata": {
    "collapsed": false
   },
   "outputs": [],
   "source": []
  },
  {
   "cell_type": "markdown",
   "metadata": {},
   "source": [
    "__*8__. How does your function from the previous exercise behave if the determinant in the denominator is zero? Modify your function in such a way that the function returns an appropriate value. For example, if the system has no solutions, the function could return `None`, Python's value to represent \"no output\". What should the function return if there are infinitely many solutions? Write tests for each of the possible cases."
   ]
  },
  {
   "cell_type": "markdown",
   "metadata": {},
   "source": [
    "__*9__. Suppose that you want to study waveforms defined as combinations of sine and cosine:\n",
    "$$\n",
    "f(t) = A\\sin(\\omega t) + B\\cos(\\omega t)\n",
    "$$\n",
    "Write a function factory called `make_waveform` that generates a function according to the formula above. This will be the pattern for your solutions:\n",
    "\n",
    "    def make_waveform(A, B, omega):\n",
    "        f = ... waveform definition ...\n",
    "        return f\n",
    "Use your function factory to create three waveforms with different values of the parameters. Compute the values of the waveforms at $t=\\pi/2$ and $t=\\pi/3$ and check that you get the right answers. Then, plot the three waveforms. "
   ]
  },
  {
   "cell_type": "code",
   "execution_count": null,
   "metadata": {
    "collapsed": false
   },
   "outputs": [],
   "source": []
  },
  {
   "cell_type": "markdown",
   "metadata": {},
   "source": [
    "__*10__. The waveform of the previous exercise represents the solution of an (undamped) linear oscillator with natural frequency $\\frac{2\\pi}{\\omega}$ rad/sec. The full state of the oscillator must also include the velocity:\n",
    "$$\n",
    "g(x)=\\omega A\\cos(\\omega t)-\\omega B\\sin(\\omega t).\n",
    "$$\n",
    "Write a function factory called `make_oscillator` that returns both $f$ and $g$, according to the following pattern:\n",
    "\n",
    "    def make_oscillator(A, B, omega):\n",
    "        f = ... position function definition ...\n",
    "        g = ... velocity function definition ...\n",
    "        return f, g\n",
    "        \n",
    "Use your function factory to create the oscillator functions for a given set of parameters, and then plot both the position and velocity for the oscillator in a single plot."
   ]
  },
  {
   "cell_type": "code",
   "execution_count": null,
   "metadata": {
    "collapsed": false
   },
   "outputs": [],
   "source": []
  },
  {
   "cell_type": "markdown",
   "metadata": {},
   "source": [
    "# What you learned in this lesson"
   ]
  },
  {
   "cell_type": "markdown",
   "metadata": {},
   "source": [
    "- How to use predefined functions.\n",
    "- What are function arguments and return values.\n",
    "- How to write functions using `def`.\n",
    "- How to write functions using `lambda`\n",
    "- The \"function factory\" pattern."
   ]
  },
  {
   "cell_type": "markdown",
   "metadata": {},
   "source": [
    "# Further information"
   ]
  },
  {
   "cell_type": "markdown",
   "metadata": {},
   "source": [
    "- Python has a small set of [built-in functions](http://docs.python.org/2/library/functions.html). Most of these are of interest only for programmers, but some are interesting for us: `abs()`, `max()`, `min()`, `sum()` and the conversion functions `int()`, `float()` and `complex()`.\n",
    "- Functions can be very sophisticated in Python, and the full function definition syntax is pretty complexs. See [the Python tutorial on functions](http://docs.python.org/2/tutorial/controlflow.html#defining-functions) for some of the possibilities.\n",
    "- Lambda functions can be pretty confusing for beginners. [Click here](http://www.secnetix.de/~olli/Python/lambda_functions.hawk) for some interesting examples.\n",
    "- If you are curious about what is functional programming, [check this](http://www.haskell.org/haskellwiki/Functional_programming). Python is a predominantly procedural, object oriented, language that offers [some useful functional programming constructs](http://docs.python.org/2/howto/functional.html)."
   ]
  },
  {
   "cell_type": "markdown",
   "metadata": {},
   "source": [
    "<a rel=\"license\" href=\"http://creativecommons.org/licenses/by-nc-sa/4.0/\"><img alt=\"Creative Commons License\" style=\"border-width:0\" src=\"http://i.creativecommons.org/l/by-nc-sa/4.0/88x31.png\" /></a><br /><span xmlns:dct=\"http://purl.org/dc/terms/\" property=\"dct:title\"><b>Introduction to IPython, SciPy and matplotlib</b></span> by <a xmlns:cc=\"http://creativecommons.org/ns#\" href=\"http://academic.csuohio.edu/fmartins\" property=\"cc:attributionName\" rel=\"cc:attributionURL\">L. Felipe Martins</a> is licensed under a <a rel=\"license\" href=\"http://creativecommons.org/licenses/by-nc-sa/4.0/\">Creative Commons Attribution-NonCommercial-ShareAlike 4.0 International License</a>."
   ]
  }
 ],
 "metadata": {
  "kernelspec": {
   "display_name": "Python 3",
   "language": "python",
   "name": "python3"
  },
  "language_info": {
   "codemirror_mode": {
    "name": "ipython",
    "version": 3
   },
   "file_extension": ".py",
   "mimetype": "text/x-python",
   "name": "python",
   "nbconvert_exporter": "python",
   "pygments_lexer": "ipython3",
   "version": "3.4.3"
  }
 },
 "nbformat": 4,
 "nbformat_minor": 0
}
