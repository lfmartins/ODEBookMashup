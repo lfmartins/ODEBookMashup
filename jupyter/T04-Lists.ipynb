{
 "metadata": {
  "name": ""
 },
 "nbformat": 3,
 "nbformat_minor": 0,
 "worksheets": [
  {
   "cells": [
    {
     "cell_type": "heading",
     "level": 1,
     "metadata": {},
     "source": [
      "Introduction"
     ]
    },
    {
     "cell_type": "markdown",
     "metadata": {},
     "source": [
      "Essentially any program that goes beyond simple computations will use some sort of _data structure_, that is, data that is organized in a specific way.\n",
      "\n",
      "In this lesson we introduce _lists_, one of the most basic data structures in Python. As we will see in the next lesson, lists are not the best structure for numerical work and scientific computing. However, knowing how to use lists is still an essential skill for Python programmers."
     ]
    },
    {
     "cell_type": "heading",
     "level": 1,
     "metadata": {},
     "source": [
      "Lists"
     ]
    },
    {
     "cell_type": "markdown",
     "metadata": {},
     "source": [
      "A _list_ is an ordered collection of objects. Here is how we can define a list:"
     ]
    },
    {
     "cell_type": "code",
     "collapsed": false,
     "input": [
      "lst = [ -4, 2.3, 1+3j, 'Hello, world!' ]\n",
      "lst"
     ],
     "language": "python",
     "metadata": {},
     "outputs": []
    },
    {
     "cell_type": "markdown",
     "metadata": {},
     "source": [
      "Notice that the list can contain different types of data: the list above contains an integer, a floating point number, complex number and a string. Elements of the list can then accessed by indexing:"
     ]
    },
    {
     "cell_type": "code",
     "collapsed": false,
     "input": [
      "lst[0]"
     ],
     "language": "python",
     "metadata": {},
     "outputs": []
    },
    {
     "cell_type": "code",
     "collapsed": false,
     "input": [
      "lst[1]"
     ],
     "language": "python",
     "metadata": {},
     "outputs": []
    },
    {
     "cell_type": "code",
     "collapsed": false,
     "input": [
      "lst[2]"
     ],
     "language": "python",
     "metadata": {},
     "outputs": []
    },
    {
     "cell_type": "code",
     "collapsed": false,
     "input": [
      "lst[3]"
     ],
     "language": "python",
     "metadata": {},
     "outputs": []
    },
    {
     "cell_type": "markdown",
     "metadata": {},
     "source": [
      "Notice that the index of the first element is zero. This is a general rule in Python: any data structure that uses integer indexes starts with the index 0. If you refer to an element outside the list range, you get an error:"
     ]
    },
    {
     "cell_type": "code",
     "collapsed": false,
     "input": [
      "lst[4]"
     ],
     "language": "python",
     "metadata": {},
     "outputs": []
    },
    {
     "cell_type": "markdown",
     "metadata": {},
     "source": [
      "Negative indexes are allowed. In this case, the index -1 refers to the last element of the list, -2 refer to the next to last element, and so on. For example:"
     ]
    },
    {
     "cell_type": "code",
     "collapsed": false,
     "input": [
      "lst[-1]"
     ],
     "language": "python",
     "metadata": {},
     "outputs": []
    },
    {
     "cell_type": "code",
     "collapsed": false,
     "input": [
      "lst[-2]"
     ],
     "language": "python",
     "metadata": {},
     "outputs": []
    },
    {
     "cell_type": "markdown",
     "metadata": {},
     "source": [
      "To change an element of the list, just assign the new value to a position of the list:"
     ]
    },
    {
     "cell_type": "code",
     "collapsed": false,
     "input": [
      "lst[2] = 5.6\n",
      "lst"
     ],
     "language": "python",
     "metadata": {},
     "outputs": []
    },
    {
     "cell_type": "heading",
     "level": 1,
     "metadata": {},
     "source": [
      "List function and methods."
     ]
    },
    {
     "cell_type": "markdown",
     "metadata": {},
     "source": [
      "There are several functions provided to work with lists. To get the size of a list, use the function `len` (for \"length\"):"
     ]
    },
    {
     "cell_type": "code",
     "collapsed": false,
     "input": [
      "len(lst)"
     ],
     "language": "python",
     "metadata": {},
     "outputs": []
    },
    {
     "cell_type": "markdown",
     "metadata": {},
     "source": [
      "We can add the elements of a list with the `sum` function:"
     ]
    },
    {
     "cell_type": "code",
     "collapsed": false,
     "input": [
      "sum(lst)"
     ],
     "language": "python",
     "metadata": {},
     "outputs": []
    },
    {
     "cell_type": "markdown",
     "metadata": {},
     "source": [
      "What if we need to insert new elements to the list? One way to do this is using the `append` method:"
     ]
    },
    {
     "cell_type": "code",
     "collapsed": false,
     "input": [
      "lst.append(42)\n",
      "lst"
     ],
     "language": "python",
     "metadata": {},
     "outputs": []
    },
    {
     "cell_type": "markdown",
     "metadata": {},
     "source": [
      "A _method_ is just a function that is associated to an _object_. Objects are the most general kind of data structure supported by Python, and will be discussed later. For now, notice the syntax:\n",
      "\n",
      "    lst.append(42)\n",
      "    \n",
      "This can be read as \"append the integer 42 to the list named `lst`\".\n",
      "\n",
      "Python provides a rich set of methods to operate on lists. Here is another example. Let's define a list of names:\n"
     ]
    },
    {
     "cell_type": "code",
     "collapsed": false,
     "input": [
      "names = [ \"Caesar\", \"Augustus\", \"Claudius\", \"Vespasian\", \"Trajan\" ]\n",
      "names"
     ],
     "language": "python",
     "metadata": {},
     "outputs": []
    },
    {
     "cell_type": "markdown",
     "metadata": {},
     "source": [
      "To order the list alphabetically, we simply do:"
     ]
    },
    {
     "cell_type": "code",
     "collapsed": false,
     "input": [
      "names.sort()\n",
      "names"
     ],
     "language": "python",
     "metadata": {},
     "outputs": []
    },
    {
     "cell_type": "heading",
     "level": 1,
     "metadata": {},
     "source": [
      "Ranges and list comprehensions"
     ]
    },
    {
     "cell_type": "markdown",
     "metadata": {},
     "source": [
      "List elements are rarely specified explicitly as in the previous examples. Python provides several facilities to create lists automatically. One of them is the `range` function. For example:"
     ]
    },
    {
     "cell_type": "code",
     "collapsed": false,
     "input": [
      "range(10)"
     ],
     "language": "python",
     "metadata": {},
     "outputs": []
    },
    {
     "cell_type": "markdown",
     "metadata": {},
     "source": [
      "That is, the expresion:\n",
      "\n",
      "    range(10)\n",
      "    \n",
      "returns a list containing the integers from 0 to 9. Notice that the last element in the range is _one less_ than 10. This convention may seem a little strange, but is almost universal among modern programming languages.\n",
      "\n",
      "A range does not have to start at 0:"
     ]
    },
    {
     "cell_type": "code",
     "collapsed": false,
     "input": [
      "range(2,16)"
     ],
     "language": "python",
     "metadata": {},
     "outputs": []
    },
    {
     "cell_type": "markdown",
     "metadata": {},
     "source": [
      "Finally, we can use a third parameter in the function `range`, specifying a \"step size\". For example,  to find all multiples of 7 from 0 to 77, we can do:"
     ]
    },
    {
     "cell_type": "code",
     "collapsed": false,
     "input": [
      "range(0,78,7)"
     ],
     "language": "python",
     "metadata": {},
     "outputs": []
    },
    {
     "cell_type": "markdown",
     "metadata": {},
     "source": [
      "Why did we use 78 in the example above? Reevaluate the cell with the 78 replaced by 77 and you will see what happens. Make sure you understand why.\n",
      "\n",
      "We now can use a construct called _list comprehension_ to create more complex lists. Suppose we want a list with the squares of the integers from 0 to 10. This is how we can do it:"
     ]
    },
    {
     "cell_type": "code",
     "collapsed": false,
     "input": [
      "squares = [k**2 for k in range(11)]\n",
      "squares"
     ],
     "language": "python",
     "metadata": {},
     "outputs": []
    },
    {
     "cell_type": "markdown",
     "metadata": {},
     "source": [
      "Notice the syntax we used:\n",
      "\n",
      "    [k**2 for k in range(11)]\n",
      "    \n",
      "This can be read in English as:\n",
      "\n",
      "> The list of $k^2$, where $k$ is an integer in the interval $[0,11)$.\n",
      "\n",
      "Notice that the interval $[0,11)$ is _open_, indicating the fact that $11$ is _not_ in the range."
     ]
    },
    {
     "cell_type": "markdown",
     "metadata": {},
     "source": [
      "One of the drawbacks of ranges is that they can only contain integers. List comprehensions can be used to get around this problem. For example, let's suppose we need a list of 6 equally spaced values in the interval $[0,1]$. Here is how it can be done:"
     ]
    },
    {
     "cell_type": "code",
     "collapsed": false,
     "input": [
      "points = [k/5. for k in range(6)]\n",
      "points"
     ],
     "language": "python",
     "metadata": {},
     "outputs": []
    },
    {
     "cell_type": "markdown",
     "metadata": {},
     "source": [
      "This kind of list will appear frequently in computations. List comprehensions are very useful, but there is a much better way to do this kind of thing. This is discussed next.\n",
      "\n",
      "A more general format of list comprehensions is:\n",
      "\n",
      "    [ <expression> for <variable> in <list> if <expression> ]\n",
      "  \n",
      "The two things to not there is that the `<list>` does not have to be a range, it can be any Python list (it can be any _iterable_, but that is a more advanced topic. Also, there can be a `if` clause that selects which elements to keep.\n",
      "\n",
      "For an interesting example, here is the first paragraph of Moby Dick:"
     ]
    },
    {
     "cell_type": "code",
     "collapsed": false,
     "input": [
      "moby = \"\"\"Call me Ishmael. Some years ago - never mind how long precisely - having little or no money in my purse, and nothing \n",
      "particular to interest me on shore, I thought I would sail about a little and see the watery part of the world. It is a way I \n",
      "have of driving off the spleen and regulating the circulation. Whenever I find myself growing grim about the mouth; whenever it \n",
      "is a damp, drizzly November in my soul; whenever I find myself involuntarily pausing before coffin warehouses, and bringing up \n",
      "the rear of every funeral I meet; and especially whenever my hypos get such an upper hand of me, that it requires a strong \n",
      "moral principle to prevent me from deliberately stepping into the street, and methodically knocking people's hats off - then, \n",
      "I account it high time to get to sea as soon as I can. This is my substitute for pistol and ball. With a philosophical \n",
      "flourish Cato throws himself upon his sword; I quietly take to the ship. There is nothing surprising in this. If they but \n",
      "knew it, almost all men in their degree, some time or other, cherish very nearly the same feelings towards the ocean with me.\"\"\""
     ],
     "language": "python",
     "metadata": {},
     "outputs": [],
     "prompt_number": 3
    },
    {
     "cell_type": "markdown",
     "metadata": {},
     "source": [
      "Suppose we want to find all words with length at least in the text. First, we need a list of words. This can be done with the method `split()`:"
     ]
    },
    {
     "cell_type": "code",
     "collapsed": false,
     "input": [
      "words = moby.split()\n",
      "words[:10]  # First ten words"
     ],
     "language": "python",
     "metadata": {},
     "outputs": [
      {
       "metadata": {},
       "output_type": "pyout",
       "prompt_number": 4,
       "text": [
        "['Call', 'me', 'Ishmael.', 'Some', 'years', 'ago', '-', 'never', 'mind', 'how']"
       ]
      }
     ],
     "prompt_number": 4
    },
    {
     "cell_type": "markdown",
     "metadata": {},
     "source": [
      "We then use a list comprehension "
     ]
    },
    {
     "cell_type": "code",
     "collapsed": false,
     "input": [
      "long_words = [word for word in moby.split() if len(word) >= 5]\n",
      "long_words[:10]"
     ],
     "language": "python",
     "metadata": {},
     "outputs": [
      {
       "metadata": {},
       "output_type": "pyout",
       "prompt_number": 5,
       "text": [
        "['Ishmael.',\n",
        " 'years',\n",
        " 'never',\n",
        " 'precisely',\n",
        " 'having',\n",
        " 'little',\n",
        " 'money',\n",
        " 'purse,',\n",
        " 'nothing',\n",
        " 'particular']"
       ]
      }
     ],
     "prompt_number": 5
    },
    {
     "cell_type": "markdown",
     "metadata": {},
     "source": [
      "Notice that this is not perfect, some of the punctuation is incorrectly kept. We can fix this in the following way:"
     ]
    },
    {
     "cell_type": "code",
     "collapsed": false,
     "input": [
      "import string\n",
      "words = [word.strip(string.punctuation) for word in moby.split()]\n",
      "long_words = [word for word in words if len(word) >= 5]\n",
      "long_words[:10]"
     ],
     "language": "python",
     "metadata": {},
     "outputs": [
      {
       "metadata": {},
       "output_type": "pyout",
       "prompt_number": 8,
       "text": [
        "['Ishmael',\n",
        " 'years',\n",
        " 'never',\n",
        " 'precisely',\n",
        " 'having',\n",
        " 'little',\n",
        " 'money',\n",
        " 'purse',\n",
        " 'nothing',\n",
        " 'particular']"
       ]
      }
     ],
     "prompt_number": 8
    },
    {
     "cell_type": "markdown",
     "metadata": {},
     "source": [
      "We can now do some rudimentary text analysis. The number of words with 5 or more letters is:"
     ]
    },
    {
     "cell_type": "code",
     "collapsed": false,
     "input": [
      "len(long_words)"
     ],
     "language": "python",
     "metadata": {},
     "outputs": [
      {
       "metadata": {},
       "output_type": "pyout",
       "prompt_number": 10,
       "text": [
        "76"
       ]
      }
     ],
     "prompt_number": 10
    },
    {
     "cell_type": "markdown",
     "metadata": {},
     "source": [
      "What if we don't want repetitions? Then we can use another Python data structure called a _set_:"
     ]
    },
    {
     "cell_type": "code",
     "collapsed": false,
     "input": [
      "long_words_set = set(long_words)\n",
      "len(long_words_set)"
     ],
     "language": "python",
     "metadata": {},
     "outputs": [
      {
       "metadata": {},
       "output_type": "pyout",
       "prompt_number": 12,
       "text": [
        "70"
       ]
      }
     ],
     "prompt_number": 12
    },
    {
     "cell_type": "markdown",
     "metadata": {},
     "source": [
      "Finally, suppose now we want a list of non-repeated, alphabetically sorted. We convert the set back to a list and then sort it. (Sets are unordered data structures, so they can't be sorted.)"
     ]
    },
    {
     "cell_type": "code",
     "collapsed": false,
     "input": [
      "long_words_norep = list(long_words_set)\n",
      "long_words_norep.sort()\n",
      "long_words_norep[:10]"
     ],
     "language": "python",
     "metadata": {},
     "outputs": [
      {
       "metadata": {},
       "output_type": "pyout",
       "prompt_number": 14,
       "text": [
        "['Ishmael',\n",
        " 'November',\n",
        " 'There',\n",
        " 'Whenever',\n",
        " 'about',\n",
        " 'account',\n",
        " 'almost',\n",
        " 'before',\n",
        " 'bringing',\n",
        " 'cherish']"
       ]
      }
     ],
     "prompt_number": 14
    },
    {
     "cell_type": "markdown",
     "metadata": {},
     "source": [
      "Notice that all capitalized words come first. This is a consequence of the ordering of characters in the encoding."
     ]
    },
    {
     "cell_type": "heading",
     "level": 1,
     "metadata": {},
     "source": [
      "Slices"
     ]
    },
    {
     "cell_type": "markdown",
     "metadata": {},
     "source": [
      "Sometimes it is necessary to refer to a part of a list. This is done by a _slice_. Let's generate a list in order to do some examples:"
     ]
    },
    {
     "cell_type": "code",
     "collapsed": false,
     "input": [
      "lst = [0.5 * i for i in range(1,11)]\n",
      "lst"
     ],
     "language": "python",
     "metadata": {},
     "outputs": []
    },
    {
     "cell_type": "markdown",
     "metadata": {},
     "source": [
      "To get a sublist with the elements with indexes from 2 to 5, we use:"
     ]
    },
    {
     "cell_type": "code",
     "collapsed": false,
     "input": [
      "lst[2:6]"
     ],
     "language": "python",
     "metadata": {},
     "outputs": []
    },
    {
     "cell_type": "markdown",
     "metadata": {},
     "source": [
      "Notice that to refer to elements 2 to 5 we use the slice `2:6`, that is, a slice does not include the right index. This is the same convention used with ranges.\n",
      "\n",
      "We can use negative indices in slices:"
     ]
    },
    {
     "cell_type": "code",
     "collapsed": false,
     "input": [
      "lst[3:-2]"
     ],
     "language": "python",
     "metadata": {},
     "outputs": []
    },
    {
     "cell_type": "markdown",
     "metadata": {},
     "source": [
      "To understand this result, we have to use the rules carefully:\n",
      "\n",
      "- Index -2 refers to the next-to-last element of the list.\n",
      "- The range `3:-2` ends _immediately before_ the index -2.\n",
      "\n",
      "So, `3:-2` starts with index 3, and ends at the third index from the end of the list.\n",
      "\n",
      "As is the case with ranges, it is possible to give a third argument to a slice, indicating a step:"
     ]
    },
    {
     "cell_type": "code",
     "collapsed": false,
     "input": [
      "lst[1:7:2]"
     ],
     "language": "python",
     "metadata": {},
     "outputs": []
    },
    {
     "cell_type": "markdown",
     "metadata": {},
     "source": [
      "Notice, as usual, that the last index, 7 in this case, is not included. By the way, to get a sublist in reverse order we can use a negative step:"
     ]
    },
    {
     "cell_type": "code",
     "collapsed": false,
     "input": [
      "lst[9:1:-1]"
     ],
     "language": "python",
     "metadata": {},
     "outputs": []
    },
    {
     "cell_type": "markdown",
     "metadata": {},
     "source": [
      "Finally, extracting a beginning or ending segment of a list is a very common operation. There is a special syntax for that:"
     ]
    },
    {
     "cell_type": "code",
     "collapsed": false,
     "input": [
      "lst[3:]"
     ],
     "language": "python",
     "metadata": {},
     "outputs": []
    },
    {
     "cell_type": "code",
     "collapsed": false,
     "input": [
      "lst[:7]"
     ],
     "language": "python",
     "metadata": {},
     "outputs": []
    },
    {
     "cell_type": "markdown",
     "metadata": {},
     "source": [
      "Negative indexes are useful in this case:"
     ]
    },
    {
     "cell_type": "code",
     "collapsed": false,
     "input": [
      "lst[:-3]"
     ],
     "language": "python",
     "metadata": {},
     "outputs": []
    },
    {
     "cell_type": "markdown",
     "metadata": {},
     "source": [
      "Make sure you understand why the last two cells produce the same result.\n",
      "\n",
      "Finally, you can refer to the whole list this way:"
     ]
    },
    {
     "cell_type": "code",
     "collapsed": false,
     "input": [
      "lst[:]"
     ],
     "language": "python",
     "metadata": {},
     "outputs": []
    },
    {
     "cell_type": "markdown",
     "metadata": {},
     "source": [
      "You may be wondering why this would be useful. Actually, this is the standard way to copy a list. This kind of notation will also be useful when we want to select a row or column from a matrix."
     ]
    },
    {
     "cell_type": "heading",
     "level": 1,
     "metadata": {},
     "source": [
      "Exercises"
     ]
    },
    {
     "cell_type": "markdown",
     "metadata": {},
     "source": [
      "__1__. Given the list:\n",
      "\n",
      "    lst = [2.5, 3, \"dog\", [2,3,1,4], 3+2j, 42]\n",
      "\n",
      "describe what is the result of the following operations. Then, check your answer by running each statement.\n",
      "\n",
      "1. `lst[1]`\n",
      "1. `lst[-2]`\n",
      "1. `lst[3]`\n",
      "1. `lst[3][2]`\n",
      "1. `lst[6]`\n",
      "1. `lst[2:4]`\n",
      "1. `lst[-2:-4]`\n",
      "1. `lst[-2:-4:-1]`\n",
      "1. `lst.sort()`\n",
      "1. `len(lst[3])`\n",
      "1. `lst[3].sort()`"
     ]
    },
    {
     "cell_type": "code",
     "collapsed": false,
     "input": [],
     "language": "python",
     "metadata": {},
     "outputs": []
    },
    {
     "cell_type": "markdown",
     "metadata": {},
     "source": [
      "__2__. Write range expressions that generate each of the following lists:\n",
      "\n",
      "1. `[0, 2, 3, 4, 5]`\n",
      "1. `[11, 12, 13, 14, 15, 16]`\n",
      "1. `[3, 7, 11, 15, 19]`\n",
      "1. `[10, 9, 8, 7, 6, 5]`\n",
      "1. `[5, 2, -1, -4]`"
     ]
    },
    {
     "cell_type": "code",
     "collapsed": false,
     "input": [],
     "language": "python",
     "metadata": {},
     "outputs": []
    },
    {
     "cell_type": "markdown",
     "metadata": {},
     "source": [
      "__3__. Suppose that you need to find the sum of all positive integers up to 1000. Explain why the expression:\n",
      "\n",
      "    sum(range(1000))\n",
      "    \n",
      "gives the incorrect answer, and show how to fix it."
     ]
    },
    {
     "cell_type": "code",
     "collapsed": false,
     "input": [],
     "language": "python",
     "metadata": {},
     "outputs": []
    },
    {
     "cell_type": "markdown",
     "metadata": {},
     "source": [
      "__4__. Write a one-line expression using a range that computes the sum of all multiples of 3 between 123 and 321."
     ]
    },
    {
     "cell_type": "code",
     "collapsed": false,
     "input": [],
     "language": "python",
     "metadata": {},
     "outputs": []
    },
    {
     "cell_type": "markdown",
     "metadata": {},
     "source": [
      "__5__. Given the list:\n",
      "\n",
      "    lst = [2, 4, 5, 8, 0, 3, 7, -4, 1, 1]\n",
      "\n",
      "write slice expressions that result in the following sublists. Try to make your answers as concise as possible.\n",
      "\n",
      "1. `[5, 8, 0, 3, -7]`\n",
      "1. `[4, 8, 3]`\n",
      "1. `[-4, 7, 3, 0]`\n",
      "1. `[0, 3, 7, -4, 1, 1]`\n",
      "1. `[7, 8, 2]`\n",
      "1. `[1, 1, -4, 7, 3, 0, 8, 5, 4, 2]`\n"
     ]
    },
    {
     "cell_type": "markdown",
     "metadata": {},
     "source": [
      "__6__. Write list comprehensions to compute the following:\n",
      "\n",
      "1. A list of the squares of the integers in the interval $[8, 10]$.\n",
      "1. A list of the square roots of all multiples of 3 in the interval $[2,21]$\n",
      "1. The sum of the squares of all integers in the interval $[1,100]$\n",
      "1. A list of all integers in the interval $[1,100]$ that are either a multiple of 5 or a multiple of 7.\n",
      "1. The list `[3.0, 3.2, 3.4, 3.6, 3.8, 4.0, 4.2]`.\n",
      "1. The list `[5, 4, 3, 2, 1, 0, 1, 2, 3, 4, 5]`.\n",
      "1. The list `[3, 1, 4, 1, 5, 9, 2, 6, 5]`."
     ]
    },
    {
     "cell_type": "code",
     "collapsed": false,
     "input": [],
     "language": "python",
     "metadata": {},
     "outputs": []
    },
    {
     "cell_type": "markdown",
     "metadata": {},
     "source": [
      "__*7__. Write a function that, given an integer $n$ as input, returns `True` if the integer is not a multiple of any of the numbers in the list `[2,3,5,7,11]`. Use a list comprehension, the remainder operator `%` and the [built-in function `all`](http://docs.python.org/2/library/functions.html#all)."
     ]
    },
    {
     "cell_type": "code",
     "collapsed": false,
     "input": [
      "def not_multiple(n):\n",
      "    return all( n % k != 0 for k in [2,3,4,5,7,11])"
     ],
     "language": "python",
     "metadata": {},
     "outputs": []
    },
    {
     "cell_type": "markdown",
     "metadata": {},
     "source": [
      "__*8__. Use the function from the previous exercise and a list comprehension to find all prime numbers in the interval $[2,100]$. Use the fact that a number in $[12,100]$ is prime if and only if it is not divisible by any of 2, 3, 5, 7, 11."
     ]
    },
    {
     "cell_type": "code",
     "collapsed": false,
     "input": [],
     "language": "python",
     "metadata": {},
     "outputs": []
    },
    {
     "cell_type": "heading",
     "level": 1,
     "metadata": {},
     "source": [
      "What you learned in this lesson"
     ]
    },
    {
     "cell_type": "markdown",
     "metadata": {},
     "source": [
      "- What is a list, how to access and change list entries.\n",
      "- How to append, sum and sort elements of a list.\n",
      "- Using ranges and list comprehensions to build lists.\n",
      "- How to refer to part of a list using slices."
     ]
    },
    {
     "cell_type": "heading",
     "level": 1,
     "metadata": {},
     "source": [
      "Further information"
     ]
    },
    {
     "cell_type": "markdown",
     "metadata": {},
     "source": [
      "- If you want to do something with a list, it is possible that Python there is a function to do what you need, so you don't need to do any programming at all. Check the documentation on [sequence types](http://docs.python.org/2/library/stdtypes.html#sequence-types-str-unicode-list-tuple-bytearray-buffer-xrange) and on [mutable sequence types](http://docs.python.org/2/library/stdtypes.html#sequence-types-str-unicode-list-tuple-bytearray-buffer-xrange).\n",
      "- List comprehensions are [extremely rich and flexible](http://docs.python.org/2/tutorial/datastructures.html#list-comprehensions).\n",
      "- See [this article](http://nealcaren.web.unc.edu/an-introduction-to-text-analysis-with-python-part-1/) for an interesting example of text analysis done in Python."
     ]
    },
    {
     "cell_type": "markdown",
     "metadata": {},
     "source": [
      "<a rel=\"license\" href=\"http://creativecommons.org/licenses/by-nc-sa/4.0/\"><img alt=\"Creative Commons License\" style=\"border-width:0\" src=\"http://i.creativecommons.org/l/by-nc-sa/4.0/88x31.png\" /></a><br /><span xmlns:dct=\"http://purl.org/dc/terms/\" property=\"dct:title\"><b>Introduction to IPython, SciPy and matplotlib</b></span> by <a xmlns:cc=\"http://creativecommons.org/ns#\" href=\"http://academic.csuohio.edu/fmartins\" property=\"cc:attributionName\" rel=\"cc:attributionURL\">L. Felipe Martins</a> is licensed under a <a rel=\"license\" href=\"http://creativecommons.org/licenses/by-nc-sa/4.0/\">Creative Commons Attribution-NonCommercial-ShareAlike 4.0 International License</a>."
     ]
    },
    {
     "cell_type": "code",
     "collapsed": false,
     "input": [],
     "language": "python",
     "metadata": {},
     "outputs": []
    }
   ],
   "metadata": {}
  }
 ]
}